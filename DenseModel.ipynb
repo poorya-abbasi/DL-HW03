{
  "cells": [
    {
      "cell_type": "markdown",
      "metadata": {
        "id": "view-in-github",
        "colab_type": "text"
      },
      "source": [
        "<a href=\"https://colab.research.google.com/github/poorya-abbasi/DL-HW03/blob/main/DenseModel.ipynb\" target=\"_parent\"><img src=\"https://colab.research.google.com/assets/colab-badge.svg\" alt=\"Open In Colab\"/></a>"
      ]
    },
    {
      "cell_type": "code",
      "execution_count": 1,
      "metadata": {
        "colab": {
          "base_uri": "https://localhost:8080/"
        },
        "id": "afno_iYjVtD7",
        "outputId": "706bf474-c9ac-44fb-b7b7-929dcf54f916"
      },
      "outputs": [
        {
          "output_type": "stream",
          "name": "stdout",
          "text": [
            "Mounted at /content/drive\n"
          ]
        }
      ],
      "source": [
        "from google.colab import drive \n",
        "drive.mount('/content/drive')"
      ]
    },
    {
      "cell_type": "code",
      "execution_count": 2,
      "metadata": {
        "id": "X45uuhumVxat"
      },
      "outputs": [],
      "source": [
        "import os\n",
        "os.environ['KAGGLE_CONFIG_DIR'] = '/content/drive/MyDrive/Kaggle'"
      ]
    },
    {
      "cell_type": "code",
      "execution_count": 3,
      "metadata": {
        "colab": {
          "base_uri": "https://localhost:8080/"
        },
        "id": "6nHMfI_rVynz",
        "outputId": "d72a00bd-f8fa-4cda-ed69-d4f2871c2cd7"
      },
      "outputs": [
        {
          "output_type": "stream",
          "name": "stdout",
          "text": [
            "/content/drive/MyDrive/Kaggle\n"
          ]
        }
      ],
      "source": [
        "%cd /content/drive/MyDrive/Kaggle/"
      ]
    },
    {
      "cell_type": "code",
      "execution_count": 4,
      "metadata": {
        "colab": {
          "base_uri": "https://localhost:8080/"
        },
        "id": "RAl21YI3VyuD",
        "outputId": "a1b70f94-dae1-4063-f409-d135828faac6"
      },
      "outputs": [
        {
          "output_type": "stream",
          "name": "stdout",
          "text": [
            "multiclass-weather-dataset.zip: Skipping, found more recently modified local copy (use --force to force download)\n"
          ]
        }
      ],
      "source": [
        "!kaggle datasets download -d pratik2901/multiclass-weather-dataset"
      ]
    },
    {
      "cell_type": "code",
      "execution_count": 5,
      "metadata": {
        "colab": {
          "base_uri": "https://localhost:8080/"
        },
        "id": "yM0WepR0V2CS",
        "outputId": "e02f8ba9-4ecc-4f7e-9fa3-98042c1f1127"
      },
      "outputs": [
        {
          "output_type": "stream",
          "name": "stdout",
          "text": [
            " best-val-acc-model.h5\t\t\t  kaggle.json\n",
            " data\t\t\t\t\t 'Multi-class Weather Dataset'\n",
            " Dense-Conv2D-Pooling-Dropout-K-fold.h5   multiclass-weather-dataset.zip\n"
          ]
        }
      ],
      "source": [
        "!ls"
      ]
    },
    {
      "cell_type": "code",
      "execution_count": 6,
      "metadata": {
        "colab": {
          "base_uri": "https://localhost:8080/"
        },
        "id": "SXPBKwQ3V3rU",
        "outputId": "d1f82aba-e382-423a-a513-fc0119a9863c"
      },
      "outputs": [
        {
          "output_type": "stream",
          "name": "stdout",
          "text": [
            "Archive:  multiclass-weather-dataset.zip\n"
          ]
        }
      ],
      "source": [
        "base_dir = '/content/drive/My Drive/Kaggle/'\n",
        "!unzip -u \"multiclass-weather-dataset.zip\" -d '/content/drive/My Drive/Kaggle/'\n",
        "dataset_dir_name = 'Multi-class Weather Dataset'\n",
        "dataset_dir = base_dir + dataset_dir_name"
      ]
    },
    {
      "cell_type": "code",
      "execution_count": 7,
      "metadata": {
        "id": "IzCixrPdV5VV"
      },
      "outputs": [],
      "source": [
        "max_height = -1\n",
        "max_width = -1"
      ]
    },
    {
      "cell_type": "code",
      "execution_count": 8,
      "metadata": {
        "id": "r_oPFkFWWDNw"
      },
      "outputs": [],
      "source": [
        "import cv2\n",
        "import imutils\n",
        "import numpy as np\n"
      ]
    },
    {
      "cell_type": "code",
      "execution_count": null,
      "metadata": {
        "colab": {
          "base_uri": "https://localhost:8080/",
          "height": 105
        },
        "id": "s6fClLX8WH-D",
        "outputId": "4e1bb320-8857-45b0-e98b-8a8bdb44816f"
      },
      "outputs": [
        {
          "output_type": "execute_result",
          "data": {
            "text/plain": [
              "\"images = []\\nlabels = []\\nconvert = {'Cloudy':0, 'Rain':1, 'Shine':2, 'Sunrise':3}\\n\\npath = dataset_dir\\nprint(os.listdir(path))\\nfor filename in os.listdir(path):\\n  for filename1 in os.listdir(path+'/'+filename):\\n      img = cv2.imread(path+'/'+filename+'/'+filename1)\\n      \\n      if img is not None:\\n        if(img.shape[1]>256):\\n          img = imutils.resize(img, width=256)\\n        images.append(img)\\n        #print(img.shape)\\n        labels.append(convert[filename])\\n        max_height = max(max_height, img.shape[0])\\n        max_width = max(max_width, img.shape[1])\""
            ],
            "application/vnd.google.colaboratory.intrinsic+json": {
              "type": "string"
            }
          },
          "metadata": {},
          "execution_count": 9
        }
      ],
      "source": [
        "'''images = []\n",
        "labels = []\n",
        "convert = {'Cloudy':0, 'Rain':1, 'Shine':2, 'Sunrise':3}\n",
        "\n",
        "path = dataset_dir\n",
        "print(os.listdir(path))\n",
        "for filename in os.listdir(path):\n",
        "  for filename1 in os.listdir(path+'/'+filename):\n",
        "      img = cv2.imread(path+'/'+filename+'/'+filename1)\n",
        "      \n",
        "      if img is not None:\n",
        "        if(img.shape[1]>256):\n",
        "          img = imutils.resize(img, width=256)\n",
        "        images.append(img)\n",
        "        #print(img.shape)\n",
        "        labels.append(convert[filename])\n",
        "        max_height = max(max_height, img.shape[0])\n",
        "        max_width = max(max_width, img.shape[1])'''"
      ]
    },
    {
      "cell_type": "code",
      "execution_count": 9,
      "metadata": {
        "colab": {
          "base_uri": "https://localhost:8080/"
        },
        "id": "XUU_3ZdTWNHs",
        "outputId": "e717d4fe-a96a-4278-8d55-0653695360cd"
      },
      "outputs": [
        {
          "output_type": "stream",
          "name": "stdout",
          "text": [
            "-1\n",
            "-1\n"
          ]
        }
      ],
      "source": [
        "print(max_height)\n",
        "print(max_width)\n"
      ]
    },
    {
      "cell_type": "code",
      "execution_count": 10,
      "metadata": {
        "colab": {
          "base_uri": "https://localhost:8080/",
          "height": 70
        },
        "id": "Za0xxIPFWOie",
        "outputId": "56686cc6-7e66-4154-c4e3-abf74796e59d"
      },
      "outputs": [
        {
          "output_type": "execute_result",
          "data": {
            "text/plain": [
              "\"from matplotlib import pyplot\\n\\nimg = images[413]\\n#pyplot.imshow(img, cmap=pyplot.get_cmap('gray'))\\npyplot.imshow(img)\\n# show the figure\\npyplot.show()\\nprint(img.shape)\\n\\nimages=np.array(images)\\nll = np.zeros((len(labels),10))\\nfor i in range(len(labels)):\\n  ll[i][labels[i]]=1\\nfrom sklearn.model_selection import train_test_split\\nX_train, X_test, y_train, y_test = train_test_split(images, ll, test_size=0.15, random_state=42)\""
            ],
            "application/vnd.google.colaboratory.intrinsic+json": {
              "type": "string"
            }
          },
          "metadata": {},
          "execution_count": 10
        }
      ],
      "source": [
        "'''from matplotlib import pyplot\n",
        "\n",
        "img = images[413]\n",
        "#pyplot.imshow(img, cmap=pyplot.get_cmap('gray'))\n",
        "pyplot.imshow(img)\n",
        "# show the figure\n",
        "pyplot.show()\n",
        "print(img.shape)\n",
        "\n",
        "images=np.array(images)\n",
        "ll = np.zeros((len(labels),10))\n",
        "for i in range(len(labels)):\n",
        "  ll[i][labels[i]]=1\n",
        "from sklearn.model_selection import train_test_split\n",
        "X_train, X_test, y_train, y_test = train_test_split(images, ll, test_size=0.15, random_state=42)'''\n"
      ]
    },
    {
      "cell_type": "code",
      "execution_count": 11,
      "metadata": {
        "id": "g-NfY_j3ZQXK"
      },
      "outputs": [],
      "source": [
        "\n",
        "train_dir = base_dir+\"/data/train/\"\n",
        "\n",
        "val_dir = base_dir + '/data/validate/'\n",
        "tmp_dir = base_dir + '/data/temp/'\n",
        "test_dir = base_dir + '/data/test/'\n",
        "\n",
        "CLOUDY_SRC = dataset_dir + '/Cloudy/'\n",
        "CLOUDY_TMP = tmp_dir + 'cloudy/'\n",
        "CLOUDY_T = train_dir + 'cloudy/'\n",
        "CLOUDY_V = val_dir + 'cloudy/'\n",
        "CLOUDY_TEST = test_dir + 'cloudy/'\n",
        "\n",
        "RAINY_SRC = dataset_dir + '/Rain/'\n",
        "RAINY_TMP = tmp_dir + '/rain/'\n",
        "RAINY_T = train_dir + '/rain/'\n",
        "RAINY_V = val_dir + 'rain/'\n",
        "RAINY_TEST = test_dir + 'rain/'\n",
        "\n",
        "SHINE_SRC = dataset_dir + '/Shine/'\n",
        "SHINE_TMP = tmp_dir + 'shine/'\n",
        "SHINE_T = train_dir + 'shine/'\n",
        "SHINE_V = val_dir + 'shine/'\n",
        "SHINE_TEST = test_dir + 'shine/'\n",
        "\n",
        "SUNRISE_SRC = dataset_dir + '/Sunrise/'\n",
        "SUNRISE_TMP = tmp_dir + 'sunrise/'\n",
        "SUNRISE_T = train_dir + 'sunrise/'\n",
        "SUNRISE_V = val_dir + 'sunrise/'\n",
        "SUNRISE_TEST = test_dir + 'sunrise/'\n",
        "\n"
      ]
    },
    {
      "cell_type": "code",
      "execution_count": 12,
      "metadata": {
        "id": "48eVT4CreYLJ"
      },
      "outputs": [],
      "source": [
        "import shutil\n",
        "\n",
        "shutil.rmtree(base_dir+'data')\n",
        "os.mkdir(base_dir+'data')\n",
        "os.mkdir(train_dir)\n",
        "os.mkdir(val_dir)\n",
        "os.mkdir(test_dir)\n",
        "os.mkdir(tmp_dir)\n",
        "#sub folders for train\n",
        "\n",
        "os.mkdir(CLOUDY_T)\n",
        "os.mkdir(RAINY_T)\n",
        "os.mkdir(SHINE_T)\n",
        "os.mkdir(SUNRISE_T)\n",
        "\n",
        "#sub folders for validate\n",
        "os.mkdir(CLOUDY_V)\n",
        "os.mkdir(RAINY_V)\n",
        "os.mkdir(SHINE_V)\n",
        "os.mkdir(SUNRISE_V)\n",
        "\n",
        "#sub folders for validate\n",
        "os.mkdir(CLOUDY_TMP)\n",
        "os.mkdir(RAINY_TMP)\n",
        "os.mkdir(SHINE_TMP)\n",
        "os.mkdir(SUNRISE_TMP)\n",
        "\n",
        "#sub folders for validate\n",
        "os.mkdir(CLOUDY_TEST)\n",
        "os.mkdir(RAINY_TEST)\n",
        "os.mkdir(SHINE_TEST)\n",
        "os.mkdir(SUNRISE_TEST)\n",
        "\n"
      ]
    },
    {
      "cell_type": "markdown",
      "metadata": {
        "id": "QfyFyqrMfGPK"
      },
      "source": [
        "# Spliting Data to validatde and Train"
      ]
    },
    {
      "cell_type": "code",
      "execution_count": 13,
      "metadata": {
        "id": "eQwXYSKNfFoT",
        "colab": {
          "base_uri": "https://localhost:8080/"
        },
        "outputId": "c315d713-5835-42fc-d456-78fed2bf0383"
      },
      "outputs": [
        {
          "output_type": "stream",
          "name": "stdout",
          "text": [
            "sunrise88.jpg is zero length, so ignoring.\n"
          ]
        }
      ],
      "source": [
        "import os\n",
        "import random\n",
        "from shutil import copyfile\n",
        "\n",
        "def split_data(SOURCE, TRAINING, VALIDATION, SPLIT_SIZE):\n",
        "    files = []\n",
        "    for filename in os.listdir(SOURCE):\n",
        "        file = SOURCE + filename\n",
        "        if os.path.getsize(file) > 0:\n",
        "            files.append(filename)\n",
        "        else:\n",
        "            print(filename + \" is zero length, so ignoring.\")\n",
        "\n",
        "    training_length = int(len(files) * SPLIT_SIZE)\n",
        "    valid_length = int(len(files) - training_length)\n",
        "    shuffled_set = random.sample(files, len(files))\n",
        "    training_set = shuffled_set[0:training_length]\n",
        "    valid_set = shuffled_set[training_length:]\n",
        "\n",
        "    for filename in training_set:\n",
        "        this_file = SOURCE + filename\n",
        "        destination = TRAINING + filename\n",
        "        copyfile(this_file, destination)\n",
        "\n",
        "    for filename in valid_set:\n",
        "        this_file = SOURCE + filename\n",
        "        destination = VALIDATION + filename\n",
        "        copyfile(this_file, destination)\n",
        "\n",
        "\n",
        "\n",
        "train_split_size = .8\n",
        "validate_split_size =.85\n",
        "\n",
        "split_data(CLOUDY_SRC, CLOUDY_TMP, CLOUDY_TEST, train_split_size)\n",
        "split_data(RAINY_SRC, RAINY_TMP, RAINY_TEST, train_split_size)\n",
        "split_data(SHINE_SRC, SHINE_TMP, SHINE_TEST, train_split_size)\n",
        "split_data(SUNRISE_SRC, SUNRISE_TMP, SUNRISE_TEST, train_split_size)\n",
        "\n",
        "split_data(CLOUDY_TMP, CLOUDY_T, CLOUDY_V, validate_split_size)\n",
        "split_data(RAINY_TMP, RAINY_T, RAINY_V, validate_split_size)\n",
        "split_data(SHINE_TMP, SHINE_T, SHINE_V, validate_split_size)\n",
        "split_data(SUNRISE_TMP, SUNRISE_T, SUNRISE_V, validate_split_size)\n"
      ]
    },
    {
      "cell_type": "code",
      "execution_count": 14,
      "metadata": {
        "colab": {
          "base_uri": "https://localhost:8080/",
          "height": 459
        },
        "id": "HxvYAw9ki8CQ",
        "outputId": "459af93d-2163-4bd4-95d0-aac890d17c35"
      },
      "outputs": [
        {
          "output_type": "display_data",
          "data": {
            "text/plain": [
              "<Figure size 648x432 with 1 Axes>"
            ],
            "image/png": "[encoded data removed]"
          },
          "metadata": {
            "needs_background": "light"
          }
        },
        {
          "output_type": "stream",
          "name": "stdout",
          "text": [
            "Training cloudy images are: 204\n",
            "Training rain images are: 146\n",
            "Training shine images are: 171\n",
            "Training sunrise images are: 241\n"
          ]
        }
      ],
      "source": [
        "import matplotlib.pyplot as plt\n",
        "import seaborn as sns\n",
        "from matplotlib.image import imread\n",
        "import pathlib\n",
        "\n",
        "image_folder = ['cloudy', 'rain', 'shine', 'sunrise']\n",
        "nimgs = {}\n",
        "for i in image_folder:\n",
        "    nimages = len(os.listdir(train_dir+i+'/'))\n",
        "    nimgs[i]=nimages\n",
        "plt.figure(figsize=(9, 6))\n",
        "plt.bar(range(len(nimgs)), list(nimgs.values()), align='center')\n",
        "plt.xticks(range(len(nimgs)), list(nimgs.keys()))\n",
        "plt.title('Distribution of different classes in Training Dataset')\n",
        "plt.show()\n",
        "for i in ['cloudy','rain', 'shine', 'sunrise']:\n",
        "    print('Training {} images are: '.format(i)+str(len(os.listdir(train_dir+i+'/'))))"
      ]
    },
    {
      "cell_type": "code",
      "execution_count": 15,
      "metadata": {
        "colab": {
          "base_uri": "https://localhost:8080/",
          "height": 459
        },
        "id": "FdjWsRsIkf1O",
        "outputId": "386d18ca-bc87-4941-8cc6-7b50d38d7e86"
      },
      "outputs": [
        {
          "output_type": "display_data",
          "data": {
            "text/plain": [
              "<Figure size 648x432 with 1 Axes>"
            ],
            "image/png": "[encoded data removed]"
          },
          "metadata": {
            "needs_background": "light"
          }
        },
        {
          "output_type": "stream",
          "name": "stdout",
          "text": [
            "Valid cloudy images are: 36\n",
            "Valid rain images are: 26\n",
            "Valid shine images are: 31\n",
            "Valid sunrise images are: 43\n"
          ]
        }
      ],
      "source": [
        "image_folder = ['cloudy', 'rain', 'shine', 'sunrise']\n",
        "nimgs = {}\n",
        "for i in image_folder:\n",
        "    nimages = len(os.listdir(val_dir+i+'/'))\n",
        "    nimgs[i]=nimages\n",
        "plt.figure(figsize=(9, 6))\n",
        "plt.bar(range(len(nimgs)), list(nimgs.values()), align='center')\n",
        "plt.xticks(range(len(nimgs)), list(nimgs.keys()))\n",
        "plt.title('Distribution of different classes in Validation Dataset')\n",
        "plt.show()\n",
        "for i in ['cloudy', 'rain', 'shine', 'sunrise']:\n",
        "    print('Valid {} images are: '.format(i)+str(len(os.listdir(val_dir+i+'/'))))"
      ]
    },
    {
      "cell_type": "code",
      "execution_count": 16,
      "metadata": {
        "id": "snS-4ULMk0es"
      },
      "outputs": [],
      "source": [
        "from tensorflow.keras.optimizers import Adam\n",
        "from tensorflow.keras.preprocessing.image import ImageDataGenerator\n",
        "from tensorflow.keras.layers import Conv2D, MaxPooling2D, Flatten, Dense, Dropout, BatchNormalization\n",
        "from tensorflow.keras.models import Sequential\n",
        "from tensorflow.keras.callbacks import EarlyStopping, ModelCheckpoint\n",
        "import tensorflow as tf "
      ]
    },
    {
      "cell_type": "code",
      "execution_count": 17,
      "metadata": {
        "colab": {
          "base_uri": "https://localhost:8080/"
        },
        "id": "mOqC9-64lH_K",
        "outputId": "a17c11d2-4115-4cec-f8c5-68a906b1f333"
      },
      "outputs": [
        {
          "output_type": "stream",
          "name": "stdout",
          "text": [
            "Found 762 images belonging to 4 classes.\n"
          ]
        }
      ],
      "source": [
        "\n",
        "\n",
        "train_datagen = ImageDataGenerator(rescale = 1/255.0,\n",
        "                                   rotation_range=30,\n",
        "                                   zoom_range=0.4,\n",
        "                                   horizontal_flip=True)\n",
        "\n",
        "batch_size=16\n",
        "\n",
        "train_generator = train_datagen.flow_from_directory(train_dir,\n",
        "                                                    batch_size=batch_size,\n",
        "                                                    class_mode='categorical',\n",
        "                                      \n",
        "                                                    target_size=(320, 320))"
      ]
    },
    {
      "cell_type": "code",
      "execution_count": 18,
      "metadata": {
        "colab": {
          "base_uri": "https://localhost:8080/"
        },
        "id": "O2c7Xd0VlUh4",
        "outputId": "167b227e-7eda-47e9-fc16-63ecfe044b7c"
      },
      "outputs": [
        {
          "output_type": "stream",
          "name": "stdout",
          "text": [
            "Found 136 images belonging to 4 classes.\n"
          ]
        }
      ],
      "source": [
        "\n",
        "\n",
        "validation_datagen = ImageDataGenerator(rescale = 1/255.0)\n",
        "\n",
        "validation_generator = validation_datagen.flow_from_directory(val_dir,\n",
        "                                                              batch_size=batch_size,\n",
        "                                                              class_mode='categorical',\n",
        "                                                               shuffle=False,\n",
        "                                                              target_size=(320, 320)\n",
        "                                                             )"
      ]
    },
    {
      "cell_type": "code",
      "execution_count": 19,
      "metadata": {
        "id": "V7uuQA68llUv"
      },
      "outputs": [],
      "source": [
        "callbacks = EarlyStopping(monitor='val_loss', patience=5, verbose=1, mode='auto')\n",
        "# autosave best Model\n",
        "best_model_file = base_dir + 'dense-model.h5'\n",
        "best_model = ModelCheckpoint(best_model_file, monitor='val_accuracy', verbose = 1, save_best_only = True)"
      ]
    },
    {
      "cell_type": "code",
      "execution_count": 20,
      "metadata": {
        "colab": {
          "base_uri": "https://localhost:8080/"
        },
        "id": "fz82fFEWmB_F",
        "outputId": "dd43d93f-7cd4-467d-881b-9e1191f2ebc6"
      },
      "outputs": [
        {
          "output_type": "stream",
          "name": "stdout",
          "text": [
            "Model: \"sequential\"\n",
            "_________________________________________________________________\n",
            " Layer (type)                Output Shape              Param #   \n",
            "=================================================================\n",
            " flatten (Flatten)           (None, 307200)            0         \n",
            "                                                                 \n",
            " dense (Dense)               (None, 8)                 2457608   \n",
            "                                                                 \n",
            " dense_1 (Dense)             (None, 16)                144       \n",
            "                                                                 \n",
            " dense_2 (Dense)             (None, 32)                544       \n",
            "                                                                 \n",
            " dense_3 (Dense)             (None, 64)                2112      \n",
            "                                                                 \n",
            " dense_4 (Dense)             (None, 128)               8320      \n",
            "                                                                 \n",
            " dense_5 (Dense)             (None, 256)               33024     \n",
            "                                                                 \n",
            " dense_6 (Dense)             (None, 512)               131584    \n",
            "                                                                 \n",
            " dense_7 (Dense)             (None, 1024)              525312    \n",
            "                                                                 \n",
            " dense_8 (Dense)             (None, 2048)              2099200   \n",
            "                                                                 \n",
            " dropout (Dropout)           (None, 2048)              0         \n",
            "                                                                 \n",
            " dense_9 (Dense)             (None, 4)                 8196      \n",
            "                                                                 \n",
            "=================================================================\n",
            "Total params: 5,266,044\n",
            "Trainable params: 5,266,044\n",
            "Non-trainable params: 0\n",
            "_________________________________________________________________\n"
          ]
        }
      ],
      "source": [
        "'''\n",
        "model = Sequential([\n",
        "    Dense(32, activation='relu', input_shape=(320, 320, 3)),\n",
        "    Dense(64, activation='relu'),\n",
        "    Dense(128, activation='relu'),\n",
        "    #Dense(256, activation='relu'),\n",
        "    #Dense(512, activation='relu'),\n",
        "    Dense(4, activation='softmax')\n",
        "])\n",
        "model.summary()\n",
        "'''\n",
        "model = Sequential([\n",
        "    Flatten(input_shape=(320, 320, 3)),\n",
        "    Dense(8, activation='relu'),\n",
        "    Dense(16, activation='relu'),\n",
        "    Dense(32, activation='relu'),\n",
        "    Dense(64, activation='relu'),\n",
        "    Dense(128, activation='relu'),\n",
        "    Dense(256, activation='relu'),\n",
        "    Dense(512, activation='relu'),\n",
        "    Dense(1024, activation='relu'),\n",
        "    Dense(2048, activation='relu'),\n",
        "    Dropout(0.2),\n",
        "    Dense(4, activation='softmax')\n",
        "])\n",
        "model.summary()"
      ]
    },
    {
      "cell_type": "code",
      "execution_count": 21,
      "metadata": {
        "id": "zyDE5PVypeak"
      },
      "outputs": [],
      "source": [
        "#model.load_weights( base_dir + 'dense-model.h5')\n",
        "model.compile(optimizer='Adam', \n",
        "              loss='categorical_crossentropy', \n",
        "              metrics =['accuracy'])\n",
        "\n"
      ]
    },
    {
      "cell_type": "code",
      "execution_count": 22,
      "metadata": {
        "id": "-SiYeCiRpidT",
        "colab": {
          "base_uri": "https://localhost:8080/"
        },
        "outputId": "eebb37f6-6caf-4e93-bc55-e634d3c2e4db"
      },
      "outputs": [
        {
          "output_type": "stream",
          "name": "stderr",
          "text": [
            "/usr/local/lib/python3.7/dist-packages/ipykernel_launcher.py:7: UserWarning: `Model.fit_generator` is deprecated and will be removed in a future version. Please use `Model.fit`, which supports generators.\n",
            "  import sys\n"
          ]
        },
        {
          "output_type": "stream",
          "name": "stdout",
          "text": [
            "Epoch 1/20\n",
            "48/48 [==============================] - ETA: 0s - loss: 1.7267 - accuracy: 0.3071\n",
            "Epoch 1: val_accuracy improved from -inf to 0.31618, saving model to /content/drive/My Drive/Kaggle/dense-model.h5\n",
            "48/48 [==============================] - 26s 472ms/step - loss: 1.7267 - accuracy: 0.3071 - val_loss: 1.3969 - val_accuracy: 0.3162\n",
            "Epoch 2/20\n",
            "48/48 [==============================] - ETA: 0s - loss: 1.3726 - accuracy: 0.3163\n",
            "Epoch 2: val_accuracy did not improve from 0.31618\n",
            "48/48 [==============================] - 24s 494ms/step - loss: 1.3726 - accuracy: 0.3163 - val_loss: 1.3698 - val_accuracy: 0.3162\n",
            "Epoch 3/20\n",
            "48/48 [==============================] - ETA: 0s - loss: 1.3707 - accuracy: 0.3163\n",
            "Epoch 3: val_accuracy did not improve from 0.31618\n",
            "48/48 [==============================] - 23s 473ms/step - loss: 1.3707 - accuracy: 0.3163 - val_loss: 1.3694 - val_accuracy: 0.3162\n",
            "Epoch 4/20\n",
            "48/48 [==============================] - ETA: 0s - loss: 1.3716 - accuracy: 0.3163\n",
            "Epoch 4: val_accuracy did not improve from 0.31618\n",
            "48/48 [==============================] - 22s 469ms/step - loss: 1.3716 - accuracy: 0.3163 - val_loss: 1.3694 - val_accuracy: 0.3162\n",
            "Epoch 5/20\n",
            "48/48 [==============================] - ETA: 0s - loss: 1.3724 - accuracy: 0.3163\n",
            "Epoch 5: val_accuracy did not improve from 0.31618\n",
            "48/48 [==============================] - 22s 461ms/step - loss: 1.3724 - accuracy: 0.3163 - val_loss: 1.3697 - val_accuracy: 0.3162\n",
            "Epoch 6/20\n",
            "48/48 [==============================] - ETA: 0s - loss: 1.3709 - accuracy: 0.3163\n",
            "Epoch 6: val_accuracy did not improve from 0.31618\n",
            "48/48 [==============================] - 22s 465ms/step - loss: 1.3709 - accuracy: 0.3163 - val_loss: 1.3698 - val_accuracy: 0.3162\n",
            "Epoch 7/20\n",
            "48/48 [==============================] - ETA: 0s - loss: 1.3718 - accuracy: 0.3163\n",
            "Epoch 7: val_accuracy did not improve from 0.31618\n",
            "48/48 [==============================] - 22s 464ms/step - loss: 1.3718 - accuracy: 0.3163 - val_loss: 1.3703 - val_accuracy: 0.3162\n",
            "Epoch 8/20\n",
            "48/48 [==============================] - ETA: 0s - loss: 1.3716 - accuracy: 0.3163\n",
            "Epoch 8: val_accuracy did not improve from 0.31618\n",
            "48/48 [==============================] - 22s 465ms/step - loss: 1.3716 - accuracy: 0.3163 - val_loss: 1.3698 - val_accuracy: 0.3162\n",
            "Epoch 9/20\n",
            "48/48 [==============================] - ETA: 0s - loss: 1.3707 - accuracy: 0.3163\n",
            "Epoch 9: val_accuracy did not improve from 0.31618\n",
            "48/48 [==============================] - 22s 462ms/step - loss: 1.3707 - accuracy: 0.3163 - val_loss: 1.3698 - val_accuracy: 0.3162\n",
            "Epoch 10/20\n",
            "48/48 [==============================] - ETA: 0s - loss: 1.3694 - accuracy: 0.3163\n",
            "Epoch 10: val_accuracy did not improve from 0.31618\n",
            "48/48 [==============================] - 22s 465ms/step - loss: 1.3694 - accuracy: 0.3163 - val_loss: 1.3695 - val_accuracy: 0.3162\n",
            "Epoch 11/20\n",
            "48/48 [==============================] - ETA: 0s - loss: 1.3735 - accuracy: 0.3163\n",
            "Epoch 11: val_accuracy did not improve from 0.31618\n",
            "48/48 [==============================] - 22s 463ms/step - loss: 1.3735 - accuracy: 0.3163 - val_loss: 1.3695 - val_accuracy: 0.3162\n",
            "Epoch 12/20\n",
            "48/48 [==============================] - ETA: 0s - loss: 1.3721 - accuracy: 0.3163\n",
            "Epoch 12: val_accuracy did not improve from 0.31618\n",
            "48/48 [==============================] - 22s 461ms/step - loss: 1.3721 - accuracy: 0.3163 - val_loss: 1.3695 - val_accuracy: 0.3162\n",
            "Epoch 13/20\n",
            "48/48 [==============================] - ETA: 0s - loss: 1.3708 - accuracy: 0.3163\n",
            "Epoch 13: val_accuracy did not improve from 0.31618\n",
            "48/48 [==============================] - 22s 456ms/step - loss: 1.3708 - accuracy: 0.3163 - val_loss: 1.3693 - val_accuracy: 0.3162\n",
            "Epoch 14/20\n",
            "48/48 [==============================] - ETA: 0s - loss: 1.3701 - accuracy: 0.3163\n",
            "Epoch 14: val_accuracy did not improve from 0.31618\n",
            "48/48 [==============================] - 22s 461ms/step - loss: 1.3701 - accuracy: 0.3163 - val_loss: 1.3694 - val_accuracy: 0.3162\n",
            "Epoch 15/20\n",
            "48/48 [==============================] - ETA: 0s - loss: 1.3704 - accuracy: 0.3163\n",
            "Epoch 15: val_accuracy did not improve from 0.31618\n",
            "48/48 [==============================] - 24s 494ms/step - loss: 1.3704 - accuracy: 0.3163 - val_loss: 1.3694 - val_accuracy: 0.3162\n",
            "Epoch 16/20\n",
            "48/48 [==============================] - ETA: 0s - loss: 1.3708 - accuracy: 0.3163\n",
            "Epoch 16: val_accuracy did not improve from 0.31618\n",
            "48/48 [==============================] - 22s 463ms/step - loss: 1.3708 - accuracy: 0.3163 - val_loss: 1.3694 - val_accuracy: 0.3162\n",
            "Epoch 17/20\n",
            "48/48 [==============================] - ETA: 0s - loss: 1.3699 - accuracy: 0.3163\n",
            "Epoch 17: val_accuracy did not improve from 0.31618\n",
            "48/48 [==============================] - 22s 460ms/step - loss: 1.3699 - accuracy: 0.3163 - val_loss: 1.3693 - val_accuracy: 0.3162\n",
            "Epoch 18/20\n",
            "48/48 [==============================] - ETA: 0s - loss: 1.3706 - accuracy: 0.3163\n",
            "Epoch 18: val_accuracy did not improve from 0.31618\n",
            "48/48 [==============================] - 22s 455ms/step - loss: 1.3706 - accuracy: 0.3163 - val_loss: 1.3694 - val_accuracy: 0.3162\n",
            "Epoch 19/20\n",
            "48/48 [==============================] - ETA: 0s - loss: 1.3700 - accuracy: 0.3163\n",
            "Epoch 19: val_accuracy did not improve from 0.31618\n",
            "48/48 [==============================] - 22s 459ms/step - loss: 1.3700 - accuracy: 0.3163 - val_loss: 1.3693 - val_accuracy: 0.3162\n",
            "Epoch 20/20\n",
            "48/48 [==============================] - ETA: 0s - loss: 1.3705 - accuracy: 0.3163\n",
            "Epoch 20: val_accuracy did not improve from 0.31618\n",
            "48/48 [==============================] - 22s 456ms/step - loss: 1.3705 - accuracy: 0.3163 - val_loss: 1.3694 - val_accuracy: 0.3162\n"
          ]
        }
      ],
      "source": [
        "\n",
        "\n",
        "history = model.fit_generator(train_generator,\n",
        "                              epochs=20,\n",
        "                              verbose=1,\n",
        "                              validation_data=validation_generator,\n",
        "                              callbacks = [best_model]\n",
        "                              )\n",
        "\n"
      ]
    },
    {
      "cell_type": "code",
      "execution_count": 23,
      "metadata": {
        "id": "JGASFNdG0vKR",
        "colab": {
          "base_uri": "https://localhost:8080/",
          "height": 458
        },
        "outputId": "3b2d1c32-6f83-4451-f505-3f5f1b019d22"
      },
      "outputs": [
        {
          "output_type": "display_data",
          "data": {
            "text/plain": [
              "<Figure size 1008x504 with 1 Axes>"
            ],
            "image/png": "[encoded data removed]"
          },
          "metadata": {
            "needs_background": "light"
          }
        }
      ],
      "source": [
        "acc=history.history['accuracy']\n",
        "val_acc=history.history['val_accuracy']\n",
        "loss=history.history['loss']\n",
        "val_loss=history.history['val_loss']\n",
        "\n",
        "epochs=range(len(acc))\n",
        "\n",
        "fig = plt.figure(figsize=(14,7))\n",
        "plt.plot(epochs, acc, 'r', label=\"Training Accuracy\")\n",
        "plt.plot(epochs, val_acc, 'b', label=\"Validation Accuracy\")\n",
        "plt.xlabel('Epoch')\n",
        "plt.ylabel('Accuracy')\n",
        "plt.title('Training and validation accuracy')\n",
        "plt.legend(loc='lower right')\n",
        "plt.show()"
      ]
    },
    {
      "cell_type": "code",
      "execution_count": 24,
      "metadata": {
        "id": "WCENHWiu01jH",
        "colab": {
          "base_uri": "https://localhost:8080/",
          "height": 475
        },
        "outputId": "c0970775-f630-4ccc-cb44-ef7eff7af9eb"
      },
      "outputs": [
        {
          "output_type": "execute_result",
          "data": {
            "text/plain": [
              "Text(0.5, 1.0, 'Training and validation loss')"
            ]
          },
          "metadata": {},
          "execution_count": 24
        },
        {
          "output_type": "display_data",
          "data": {
            "text/plain": [
              "<Figure size 1008x504 with 1 Axes>"
            ],
            "image/png": "[encoded data removed]"
          },
          "metadata": {
            "needs_background": "light"
          }
        }
      ],
      "source": [
        "fig2 = plt.figure(figsize=(14,7))\n",
        "plt.plot(epochs, loss, 'r', label=\"Training Loss\")\n",
        "plt.plot(epochs, val_loss, 'b', label=\"Validation Loss\")\n",
        "plt.legend(loc='upper right')\n",
        "plt.xlabel('Epoch')\n",
        "plt.ylabel('Loss')\n",
        "plt.title('Training and validation loss')"
      ]
    },
    {
      "cell_type": "code",
      "execution_count": 26,
      "metadata": {
        "id": "UheK9ka88fKj",
        "colab": {
          "base_uri": "https://localhost:8080/",
          "height": 962
        },
        "outputId": "92af52dc-dcfa-4b91-ac21-c1b6d32eaff4"
      },
      "outputs": [
        {
          "output_type": "stream",
          "name": "stderr",
          "text": [
            "/usr/local/lib/python3.7/dist-packages/ipykernel_launcher.py:6: UserWarning: `Model.evaluate_generator` is deprecated and will be removed in a future version. Please use `Model.evaluate`, which supports generators.\n",
            "  \n"
          ]
        },
        {
          "output_type": "stream",
          "name": "stdout",
          "text": [
            "Accuracy: 0.31617647409439087 Loss: 1.3693801164627075\n"
          ]
        },
        {
          "output_type": "stream",
          "name": "stderr",
          "text": [
            "/usr/local/lib/python3.7/dist-packages/ipykernel_launcher.py:8: UserWarning: `Model.predict_generator` is deprecated and will be removed in a future version. Please use `Model.predict`, which supports generators.\n",
            "  \n"
          ]
        },
        {
          "output_type": "stream",
          "name": "stdout",
          "text": [
            "[0 0 0 0 0 0 0 0 0 0 0 0 0 0 0 0 0 0 0 0 0 0 0 0 0 0 0 0 0 0 0 0 0 0 0 0 1\n",
            " 1 1 1 1 1 1 1 1 1 1 1 1 1 1 1 1 1 1 1 1 1 1 1 1 1 2 2 2 2 2 2 2 2 2 2 2 2\n",
            " 2 2 2 2 2 2 2 2 2 2 2 2 2 2 2 2 2 2 2 3 3 3 3 3 3 3 3 3 3 3 3 3 3 3 3 3 3\n",
            " 3 3 3 3 3 3 3 3 3 3 3 3 3 3 3 3 3 3 3 3 3 3 3 3 3]\n",
            "[3 3 3 3 3 3 3 3 3 3 3 3 3 3 3 3 3 3 3 3 3 3 3 3 3 3 3 3 3 3 3 3 3 3 3 3 3\n",
            " 3 3 3 3 3 3 3 3 3 3 3 3 3 3 3 3 3 3 3 3 3 3 3 3 3 3 3 3 3 3 3 3 3 3 3 3 3\n",
            " 3 3 3 3 3 3 3 3 3 3 3 3 3 3 3 3 3 3 3 3 3 3 3 3 3 3 3 3 3 3 3 3 3 3 3 3 3\n",
            " 3 3 3 3 3 3 3 3 3 3 3 3 3 3 3 3 3 3 3 3 3 3 3 3 3]\n",
            "\n",
            "\n",
            "Validate Predict Report===============\n",
            "\n",
            "              precision    recall  f1-score   support\n",
            "\n",
            "           0       0.00      0.00      0.00         0\n",
            "           1       0.00      0.00      0.00         0\n",
            "           2       0.00      0.00      0.00         0\n",
            "           3       1.00      0.32      0.48       136\n",
            "\n",
            "    accuracy                           0.32       136\n",
            "   macro avg       0.25      0.08      0.12       136\n",
            "weighted avg       1.00      0.32      0.48       136\n",
            "\n",
            "\n",
            "\n",
            "Validate Cunfusion Matrix===============\n",
            "\n"
          ]
        },
        {
          "output_type": "stream",
          "name": "stderr",
          "text": [
            "/usr/local/lib/python3.7/dist-packages/sklearn/metrics/_classification.py:1318: UndefinedMetricWarning: Recall and F-score are ill-defined and being set to 0.0 in labels with no true samples. Use `zero_division` parameter to control this behavior.\n",
            "  _warn_prf(average, modifier, msg_start, len(result))\n",
            "/usr/local/lib/python3.7/dist-packages/sklearn/metrics/_classification.py:1318: UndefinedMetricWarning: Recall and F-score are ill-defined and being set to 0.0 in labels with no true samples. Use `zero_division` parameter to control this behavior.\n",
            "  _warn_prf(average, modifier, msg_start, len(result))\n",
            "/usr/local/lib/python3.7/dist-packages/sklearn/metrics/_classification.py:1318: UndefinedMetricWarning: Recall and F-score are ill-defined and being set to 0.0 in labels with no true samples. Use `zero_division` parameter to control this behavior.\n",
            "  _warn_prf(average, modifier, msg_start, len(result))\n"
          ]
        },
        {
          "output_type": "execute_result",
          "data": {
            "text/plain": [
              "<matplotlib.axes._subplots.AxesSubplot at 0x7fad99f4dd10>"
            ]
          },
          "metadata": {},
          "execution_count": 26
        },
        {
          "output_type": "display_data",
          "data": {
            "text/plain": [
              "<Figure size 432x288 with 1 Axes>"
            ],
            "image/png": "[encoded data removed]"
          },
          "metadata": {
            "needs_background": "light"
          }
        }
      ],
      "source": [
        "from sklearn.metrics import classification_report\n",
        "from sklearn.metrics import confusion_matrix\n",
        "\n",
        "\n",
        "\n",
        "loss, acc = model.evaluate_generator(validation_generator)\n",
        "print(\"Accuracy:\",acc,\"Loss:\",loss)\n",
        "probabilities = model.predict_generator(generator=validation_generator)\n",
        "y_t = validation_generator.classes\n",
        "print(y_t)\n",
        "y_p=np.argmax(probabilities, axis=1)\n",
        "\n",
        "print(y_p)\n",
        "print('\\n\\nValidate Predict Report===============\\n')\n",
        "print(classification_report(y_p,y_t))\n",
        "print('\\n\\nValidate Cunfusion Matrix===============\\n')\n",
        "matrix_confusion=(confusion_matrix(y_p,y_t))\n",
        "sns.heatmap(matrix_confusion, square=True, annot=True, cmap='Blues', fmt='d', cbar=False)"
      ]
    },
    {
      "cell_type": "markdown",
      "metadata": {
        "id": "6QnttKFHaBdi"
      },
      "source": [
        ""
      ]
    },
    {
      "cell_type": "code",
      "execution_count": 27,
      "metadata": {
        "id": "lSs_Lcda-m3e",
        "colab": {
          "base_uri": "https://localhost:8080/",
          "height": 1000
        },
        "outputId": "b992f9aa-6e7a-404f-a928-803fd1ce3d48"
      },
      "outputs": [
        {
          "output_type": "stream",
          "name": "stdout",
          "text": [
            "Found 226 images belonging to 4 classes.\n"
          ]
        },
        {
          "output_type": "stream",
          "name": "stderr",
          "text": [
            "/usr/local/lib/python3.7/dist-packages/ipykernel_launcher.py:10: UserWarning: `Model.evaluate_generator` is deprecated and will be removed in a future version. Please use `Model.evaluate`, which supports generators.\n",
            "  # Remove the CWD from sys.path while we load stuff.\n"
          ]
        },
        {
          "output_type": "stream",
          "name": "stdout",
          "text": [
            "Accuracy: 0.3185840845108032 Loss: 1.3683459758758545\n"
          ]
        },
        {
          "output_type": "stream",
          "name": "stderr",
          "text": [
            "/usr/local/lib/python3.7/dist-packages/ipykernel_launcher.py:12: UserWarning: `Model.predict_generator` is deprecated and will be removed in a future version. Please use `Model.predict`, which supports generators.\n",
            "  if sys.path[0] == '':\n"
          ]
        },
        {
          "output_type": "stream",
          "name": "stdout",
          "text": [
            "[0 0 0 0 0 0 0 0 0 0 0 0 0 0 0 0 0 0 0 0 0 0 0 0 0 0 0 0 0 0 0 0 0 0 0 0 0\n",
            " 0 0 0 0 0 0 0 0 0 0 0 0 0 0 0 0 0 0 0 0 0 0 0 1 1 1 1 1 1 1 1 1 1 1 1 1 1\n",
            " 1 1 1 1 1 1 1 1 1 1 1 1 1 1 1 1 1 1 1 1 1 1 1 1 1 1 1 1 1 2 2 2 2 2 2 2 2\n",
            " 2 2 2 2 2 2 2 2 2 2 2 2 2 2 2 2 2 2 2 2 2 2 2 2 2 2 2 2 2 2 2 2 2 2 2 2 2\n",
            " 2 2 2 2 2 2 3 3 3 3 3 3 3 3 3 3 3 3 3 3 3 3 3 3 3 3 3 3 3 3 3 3 3 3 3 3 3\n",
            " 3 3 3 3 3 3 3 3 3 3 3 3 3 3 3 3 3 3 3 3 3 3 3 3 3 3 3 3 3 3 3 3 3 3 3 3 3\n",
            " 3 3 3 3]\n",
            "[3 3 3 3 3 3 3 3 3 3 3 3 3 3 3 3 3 3 3 3 3 3 3 3 3 3 3 3 3 3 3 3 3 3 3 3 3\n",
            " 3 3 3 3 3 3 3 3 3 3 3 3 3 3 3 3 3 3 3 3 3 3 3 3 3 3 3 3 3 3 3 3 3 3 3 3 3\n",
            " 3 3 3 3 3 3 3 3 3 3 3 3 3 3 3 3 3 3 3 3 3 3 3 3 3 3 3 3 3 3 3 3 3 3 3 3 3\n",
            " 3 3 3 3 3 3 3 3 3 3 3 3 3 3 3 3 3 3 3 3 3 3 3 3 3 3 3 3 3 3 3 3 3 3 3 3 3\n",
            " 3 3 3 3 3 3 3 3 3 3 3 3 3 3 3 3 3 3 3 3 3 3 3 3 3 3 3 3 3 3 3 3 3 3 3 3 3\n",
            " 3 3 3 3 3 3 3 3 3 3 3 3 3 3 3 3 3 3 3 3 3 3 3 3 3 3 3 3 3 3 3 3 3 3 3 3 3\n",
            " 3 3 3 3]\n",
            "\n",
            "\n",
            "Validate Predict Report===============\n",
            "\n",
            "              precision    recall  f1-score   support\n",
            "\n",
            "           0       0.00      0.00      0.00         0\n",
            "           1       0.00      0.00      0.00         0\n",
            "           2       0.00      0.00      0.00         0\n",
            "           3       1.00      0.32      0.48       226\n",
            "\n",
            "    accuracy                           0.32       226\n",
            "   macro avg       0.25      0.08      0.12       226\n",
            "weighted avg       1.00      0.32      0.48       226\n",
            "\n",
            "\n",
            "\n",
            "Validate Cunfusion Matrix===============\n",
            "\n"
          ]
        },
        {
          "output_type": "stream",
          "name": "stderr",
          "text": [
            "/usr/local/lib/python3.7/dist-packages/sklearn/metrics/_classification.py:1318: UndefinedMetricWarning: Recall and F-score are ill-defined and being set to 0.0 in labels with no true samples. Use `zero_division` parameter to control this behavior.\n",
            "  _warn_prf(average, modifier, msg_start, len(result))\n",
            "/usr/local/lib/python3.7/dist-packages/sklearn/metrics/_classification.py:1318: UndefinedMetricWarning: Recall and F-score are ill-defined and being set to 0.0 in labels with no true samples. Use `zero_division` parameter to control this behavior.\n",
            "  _warn_prf(average, modifier, msg_start, len(result))\n",
            "/usr/local/lib/python3.7/dist-packages/sklearn/metrics/_classification.py:1318: UndefinedMetricWarning: Recall and F-score are ill-defined and being set to 0.0 in labels with no true samples. Use `zero_division` parameter to control this behavior.\n",
            "  _warn_prf(average, modifier, msg_start, len(result))\n"
          ]
        },
        {
          "output_type": "execute_result",
          "data": {
            "text/plain": [
              "<matplotlib.axes._subplots.AxesSubplot at 0x7fad99e95850>"
            ]
          },
          "metadata": {},
          "execution_count": 27
        },
        {
          "output_type": "display_data",
          "data": {
            "text/plain": [
              "<Figure size 432x288 with 1 Axes>"
            ],
            "image/png": "[encoded data removed]"
          },
          "metadata": {
            "needs_background": "light"
          }
        }
      ],
      "source": [
        "test_datagen = ImageDataGenerator(rescale = 1/255.0)\n",
        "\n",
        "test_generator = test_datagen.flow_from_directory(test_dir,\n",
        "                                                              batch_size=batch_size,\n",
        "                                                              class_mode='categorical',\n",
        "                                                               shuffle=False,\n",
        "                                                              target_size=(320, 320)\n",
        "                                                             )\n",
        "\n",
        "loss, acc = model.evaluate_generator(test_generator)\n",
        "print(\"Accuracy:\",acc,\"Loss:\",loss)\n",
        "probabilities = model.predict_generator(generator=test_generator)\n",
        "y_t = test_generator.classes\n",
        "print(y_t)\n",
        "y_p=np.argmax(probabilities, axis=1)\n",
        "\n",
        "print(y_p)\n",
        "print('\\n\\nValidate Predict Report===============\\n')\n",
        "print(classification_report(y_p,y_t))\n",
        "print('\\n\\nValidate Cunfusion Matrix===============\\n')\n",
        "matrix_confusion=(confusion_matrix(y_p,y_t))\n",
        "sns.heatmap(matrix_confusion, square=True, annot=True, cmap='Blues', fmt='d', cbar=False)"
      ]
    }
  ],
  "metadata": {
    "accelerator": "GPU",
    "colab": {
      "collapsed_sections": [],
      "name": "Dense-module.ipynb",
      "provenance": [],
      "include_colab_link": true
    },
    "kernelspec": {
      "display_name": "Python 3",
      "name": "python3"
    },
    "language_info": {
      "name": "python"
    }
  },
  "nbformat": 4,
  "nbformat_minor": 0
}