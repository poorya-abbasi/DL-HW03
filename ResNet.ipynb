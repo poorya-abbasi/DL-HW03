{
  "nbformat": 4,
  "nbformat_minor": 0,
  "metadata": {
    "colab": {
      "name": "CNN-weather-dataset-model-with-ResNet.ipynb",
      "provenance": [],
      "collapsed_sections": [],
      "include_colab_link": true
    },
    "kernelspec": {
      "name": "python3",
      "display_name": "Python 3"
    },
    "language_info": {
      "name": "python"
    },
    "accelerator": "GPU"
  },
  "cells": [
    {
      "cell_type": "markdown",
      "metadata": {
        "id": "view-in-github",
        "colab_type": "text"
      },
      "source": [
        "<a href=\"https://colab.research.google.com/github/poorya-abbasi/DL-HW03/blob/main/ResNet.ipynb\" target=\"_parent\"><img src=\"https://colab.research.google.com/assets/colab-badge.svg\" alt=\"Open In Colab\"/></a>"
      ]
    },
    {
      "cell_type": "code",
      "execution_count": 1,
      "metadata": {
        "colab": {
          "base_uri": "https://localhost:8080/"
        },
        "id": "afno_iYjVtD7",
        "outputId": "1ce68fee-a768-4615-f088-a7f2405393fd"
      },
      "outputs": [
        {
          "output_type": "stream",
          "name": "stdout",
          "text": [
            "Mounted at /content/drive\n"
          ]
        }
      ],
      "source": [
        "from google.colab import drive \n",
        "drive.mount('/content/drive')"
      ]
    },
    {
      "cell_type": "code",
      "source": [
        "import os\n",
        "os.environ['KAGGLE_CONFIG_DIR'] = '/content/drive/MyDrive/Kaggle'"
      ],
      "metadata": {
        "id": "X45uuhumVxat"
      },
      "execution_count": 2,
      "outputs": []
    },
    {
      "cell_type": "code",
      "source": [
        "%cd /content/drive/MyDrive/Kaggle/"
      ],
      "metadata": {
        "colab": {
          "base_uri": "https://localhost:8080/"
        },
        "id": "6nHMfI_rVynz",
        "outputId": "8b028197-c018-4359-e753-d07819f284c7"
      },
      "execution_count": 3,
      "outputs": [
        {
          "output_type": "stream",
          "name": "stdout",
          "text": [
            "/content/drive/MyDrive/Kaggle\n"
          ]
        }
      ]
    },
    {
      "cell_type": "code",
      "source": [
        "!kaggle datasets download -d pratik2901/multiclass-weather-dataset"
      ],
      "metadata": {
        "colab": {
          "base_uri": "https://localhost:8080/"
        },
        "id": "RAl21YI3VyuD",
        "outputId": "09c7da71-5fa8-4bb9-f19b-0a48dc6feae3"
      },
      "execution_count": 4,
      "outputs": [
        {
          "output_type": "stream",
          "name": "stdout",
          "text": [
            "multiclass-weather-dataset.zip: Skipping, found more recently modified local copy (use --force to force download)\n"
          ]
        }
      ]
    },
    {
      "cell_type": "code",
      "source": [
        "!ls"
      ],
      "metadata": {
        "colab": {
          "base_uri": "https://localhost:8080/"
        },
        "id": "yM0WepR0V2CS",
        "outputId": "4a4d110e-24b0-48ca-c6e9-5651424963ba"
      },
      "execution_count": 5,
      "outputs": [
        {
          "output_type": "stream",
          "name": "stdout",
          "text": [
            " best-val-acc-model.h5\t\t\t  dense-model.h5\n",
            " data\t\t\t\t\t  kaggle.json\n",
            " Dense-Conv2D-module.h5\t\t\t 'Multi-class Weather Dataset'\n",
            " Dense-Conv2D-Pooling-Dropout-K-fold.h5   multiclass-weather-dataset.zip\n",
            " Dense-Conv2D-Pooling.h5\n"
          ]
        }
      ]
    },
    {
      "cell_type": "code",
      "source": [
        "base_dir = '/content/drive/My Drive/Kaggle/'\n",
        "!unzip -u \"multiclass-weather-dataset.zip\" -d '/content/drive/My Drive/Kaggle/'\n",
        "dataset_dir_name = 'Multi-class Weather Dataset'\n",
        "dataset_dir = base_dir + dataset_dir_name"
      ],
      "metadata": {
        "colab": {
          "base_uri": "https://localhost:8080/"
        },
        "id": "SXPBKwQ3V3rU",
        "outputId": "862a9b59-1aaa-4f26-e213-088c59ecede6"
      },
      "execution_count": 6,
      "outputs": [
        {
          "output_type": "stream",
          "name": "stdout",
          "text": [
            "Archive:  multiclass-weather-dataset.zip\n"
          ]
        }
      ]
    },
    {
      "cell_type": "code",
      "source": [
        "max_height = -1\n",
        "max_width = -1"
      ],
      "metadata": {
        "id": "IzCixrPdV5VV"
      },
      "execution_count": 7,
      "outputs": []
    },
    {
      "cell_type": "code",
      "source": [
        "import cv2\n",
        "import imutils\n",
        "import numpy as np\n"
      ],
      "metadata": {
        "id": "r_oPFkFWWDNw"
      },
      "execution_count": 8,
      "outputs": []
    },
    {
      "cell_type": "code",
      "source": [
        "'''images = []\n",
        "labels = []\n",
        "convert = {'Cloudy':0, 'Rain':1, 'Shine':2, 'Sunrise':3}\n",
        "\n",
        "path = dataset_dir\n",
        "print(os.listdir(path))\n",
        "for filename in os.listdir(path):\n",
        "  for filename1 in os.listdir(path+'/'+filename):\n",
        "      img = cv2.imread(path+'/'+filename+'/'+filename1)\n",
        "      \n",
        "      if img is not None:\n",
        "        if(img.shape[1]>256):\n",
        "          img = imutils.resize(img, width=256)\n",
        "        images.append(img)\n",
        "        #print(img.shape)\n",
        "        labels.append(convert[filename])\n",
        "        max_height = max(max_height, img.shape[0])\n",
        "        max_width = max(max_width, img.shape[1])'''"
      ],
      "metadata": {
        "colab": {
          "base_uri": "https://localhost:8080/",
          "height": 70
        },
        "id": "s6fClLX8WH-D",
        "outputId": "9cfe1bef-68ed-46d7-b7c4-4b36d34c54b7"
      },
      "execution_count": 9,
      "outputs": [
        {
          "output_type": "execute_result",
          "data": {
            "text/plain": [
              "\"images = []\\nlabels = []\\nconvert = {'Cloudy':0, 'Rain':1, 'Shine':2, 'Sunrise':3}\\n\\npath = dataset_dir\\nprint(os.listdir(path))\\nfor filename in os.listdir(path):\\n  for filename1 in os.listdir(path+'/'+filename):\\n      img = cv2.imread(path+'/'+filename+'/'+filename1)\\n      \\n      if img is not None:\\n        if(img.shape[1]>256):\\n          img = imutils.resize(img, width=256)\\n        images.append(img)\\n        #print(img.shape)\\n        labels.append(convert[filename])\\n        max_height = max(max_height, img.shape[0])\\n        max_width = max(max_width, img.shape[1])\""
            ],
            "application/vnd.google.colaboratory.intrinsic+json": {
              "type": "string"
            }
          },
          "metadata": {},
          "execution_count": 9
        }
      ]
    },
    {
      "cell_type": "code",
      "source": [
        "print(max_height)\n",
        "print(max_width)\n"
      ],
      "metadata": {
        "colab": {
          "base_uri": "https://localhost:8080/"
        },
        "id": "XUU_3ZdTWNHs",
        "outputId": "03b633b8-8148-4a37-89b8-817a6e00bb54"
      },
      "execution_count": 10,
      "outputs": [
        {
          "output_type": "stream",
          "name": "stdout",
          "text": [
            "-1\n",
            "-1\n"
          ]
        }
      ]
    },
    {
      "cell_type": "code",
      "source": [
        "'''from matplotlib import pyplot\n",
        "\n",
        "img = images[413]\n",
        "#pyplot.imshow(img, cmap=pyplot.get_cmap('gray'))\n",
        "pyplot.imshow(img)\n",
        "# show the figure\n",
        "pyplot.show()\n",
        "print(img.shape)\n",
        "\n",
        "images=np.array(images)\n",
        "ll = np.zeros((len(labels),10))\n",
        "for i in range(len(labels)):\n",
        "  ll[i][labels[i]]=1\n",
        "from sklearn.model_selection import train_test_split\n",
        "X_train, X_test, y_train, y_test = train_test_split(images, ll, test_size=0.15, random_state=42)'''\n"
      ],
      "metadata": {
        "colab": {
          "base_uri": "https://localhost:8080/",
          "height": 70
        },
        "id": "Za0xxIPFWOie",
        "outputId": "e042b931-d7e3-44be-f6b6-879cce2f4d49"
      },
      "execution_count": 11,
      "outputs": [
        {
          "output_type": "execute_result",
          "data": {
            "text/plain": [
              "\"from matplotlib import pyplot\\n\\nimg = images[413]\\n#pyplot.imshow(img, cmap=pyplot.get_cmap('gray'))\\npyplot.imshow(img)\\n# show the figure\\npyplot.show()\\nprint(img.shape)\\n\\nimages=np.array(images)\\nll = np.zeros((len(labels),10))\\nfor i in range(len(labels)):\\n  ll[i][labels[i]]=1\\nfrom sklearn.model_selection import train_test_split\\nX_train, X_test, y_train, y_test = train_test_split(images, ll, test_size=0.15, random_state=42)\""
            ],
            "application/vnd.google.colaboratory.intrinsic+json": {
              "type": "string"
            }
          },
          "metadata": {},
          "execution_count": 11
        }
      ]
    },
    {
      "cell_type": "code",
      "source": [
        "\n",
        "train_dir = base_dir+\"/data/train/\"\n",
        "\n",
        "val_dir = base_dir + '/data/validate/'\n",
        "tmp_dir = base_dir + '/data/temp/'\n",
        "test_dir = base_dir + '/data/test/'\n",
        "\n",
        "CLOUDY_SRC = dataset_dir + '/Cloudy/'\n",
        "CLOUDY_TMP = tmp_dir + 'cloudy/'\n",
        "CLOUDY_T = train_dir + 'cloudy/'\n",
        "CLOUDY_V = val_dir + 'cloudy/'\n",
        "CLOUDY_TEST = test_dir + 'cloudy/'\n",
        "\n",
        "RAINY_SRC = dataset_dir + '/Rain/'\n",
        "RAINY_TMP = tmp_dir + '/rain/'\n",
        "RAINY_T = train_dir + '/rain/'\n",
        "RAINY_V = val_dir + 'rain/'\n",
        "RAINY_TEST = test_dir + 'rain/'\n",
        "\n",
        "SHINE_SRC = dataset_dir + '/Shine/'\n",
        "SHINE_TMP = tmp_dir + 'shine/'\n",
        "SHINE_T = train_dir + 'shine/'\n",
        "SHINE_V = val_dir + 'shine/'\n",
        "SHINE_TEST = test_dir + 'shine/'\n",
        "\n",
        "SUNRISE_SRC = dataset_dir + '/Sunrise/'\n",
        "SUNRISE_TMP = tmp_dir + 'sunrise/'\n",
        "SUNRISE_T = train_dir + 'sunrise/'\n",
        "SUNRISE_V = val_dir + 'sunrise/'\n",
        "SUNRISE_TEST = test_dir + 'sunrise/'\n",
        "\n"
      ],
      "metadata": {
        "id": "g-NfY_j3ZQXK"
      },
      "execution_count": 12,
      "outputs": []
    },
    {
      "cell_type": "code",
      "source": [
        "import shutil\n",
        "\n",
        "if os.path.exists(base_dir+'data'):\n",
        "  shutil.rmtree(base_dir+'data')\n",
        "os.mkdir(base_dir+'data')\n",
        "os.mkdir(train_dir)\n",
        "os.mkdir(val_dir)\n",
        "os.mkdir(test_dir)\n",
        "os.mkdir(tmp_dir)\n",
        "#sub folders for train\n",
        "\n",
        "os.mkdir(CLOUDY_T)\n",
        "os.mkdir(RAINY_T)\n",
        "os.mkdir(SHINE_T)\n",
        "os.mkdir(SUNRISE_T)\n",
        "\n",
        "#sub folders for validate\n",
        "os.mkdir(CLOUDY_V)\n",
        "os.mkdir(RAINY_V)\n",
        "os.mkdir(SHINE_V)\n",
        "os.mkdir(SUNRISE_V)\n",
        "\n",
        "#sub folders for validate\n",
        "os.mkdir(CLOUDY_TMP)\n",
        "os.mkdir(RAINY_TMP)\n",
        "os.mkdir(SHINE_TMP)\n",
        "os.mkdir(SUNRISE_TMP)\n",
        "\n",
        "#sub folders for validate\n",
        "os.mkdir(CLOUDY_TEST)\n",
        "os.mkdir(RAINY_TEST)\n",
        "os.mkdir(SHINE_TEST)\n",
        "os.mkdir(SUNRISE_TEST)\n",
        "\n"
      ],
      "metadata": {
        "id": "48eVT4CreYLJ"
      },
      "execution_count": 13,
      "outputs": []
    },
    {
      "cell_type": "markdown",
      "source": [
        "# Spliting Data to validatde and Train"
      ],
      "metadata": {
        "id": "QfyFyqrMfGPK"
      }
    },
    {
      "cell_type": "code",
      "source": [
        "import os\n",
        "import random\n",
        "from shutil import copyfile\n",
        "\n",
        "def split_data(SOURCE, TRAINING, VALIDATION, SPLIT_SIZE):\n",
        "    files = []\n",
        "    for filename in os.listdir(SOURCE):\n",
        "        file = SOURCE + filename\n",
        "        if os.path.getsize(file) > 0:\n",
        "            files.append(filename)\n",
        "        else:\n",
        "            print(filename + \" is zero length, so ignoring.\")\n",
        "\n",
        "    training_length = int(len(files) * SPLIT_SIZE)\n",
        "    valid_length = int(len(files) - training_length)\n",
        "    shuffled_set = random.sample(files, len(files))\n",
        "    training_set = shuffled_set[0:training_length]\n",
        "    valid_set = shuffled_set[training_length:]\n",
        "\n",
        "    for filename in training_set:\n",
        "        this_file = SOURCE + filename\n",
        "        destination = TRAINING + filename\n",
        "        copyfile(this_file, destination)\n",
        "\n",
        "    for filename in valid_set:\n",
        "        this_file = SOURCE + filename\n",
        "        destination = VALIDATION + filename\n",
        "        copyfile(this_file, destination)\n",
        "\n",
        "\n",
        "\n",
        "train_split_size = .8\n",
        "validate_split_size =.85\n",
        "\n",
        "split_data(CLOUDY_SRC, CLOUDY_TMP, CLOUDY_TEST, train_split_size)\n",
        "split_data(RAINY_SRC, RAINY_TMP, RAINY_TEST, train_split_size)\n",
        "split_data(SHINE_SRC, SHINE_TMP, SHINE_TEST, train_split_size)\n",
        "split_data(SUNRISE_SRC, SUNRISE_TMP, SUNRISE_TEST, train_split_size)\n",
        "\n",
        "split_data(CLOUDY_TMP, CLOUDY_T, CLOUDY_V, validate_split_size)\n",
        "split_data(RAINY_TMP, RAINY_T, RAINY_V, validate_split_size)\n",
        "split_data(SHINE_TMP, SHINE_T, SHINE_V, validate_split_size)\n",
        "split_data(SUNRISE_TMP, SUNRISE_T, SUNRISE_V, validate_split_size)\n"
      ],
      "metadata": {
        "id": "eQwXYSKNfFoT",
        "colab": {
          "base_uri": "https://localhost:8080/"
        },
        "outputId": "7cb1b44e-671e-4fd5-dcdd-4a207af85314"
      },
      "execution_count": 14,
      "outputs": [
        {
          "output_type": "stream",
          "name": "stdout",
          "text": [
            "sunrise88.jpg is zero length, so ignoring.\n"
          ]
        }
      ]
    },
    {
      "cell_type": "code",
      "source": [
        "import matplotlib.pyplot as plt\n",
        "import seaborn as sns\n",
        "from matplotlib.image import imread\n",
        "import pathlib\n",
        "\n",
        "image_folder = ['cloudy', 'rain', 'shine', 'sunrise']\n",
        "nimgs = {}\n",
        "for i in image_folder:\n",
        "    nimages = len(os.listdir(train_dir+i+'/'))\n",
        "    nimgs[i]=nimages\n",
        "plt.figure(figsize=(9, 6))\n",
        "plt.bar(range(len(nimgs)), list(nimgs.values()), align='center')\n",
        "plt.xticks(range(len(nimgs)), list(nimgs.keys()))\n",
        "plt.title('Distribution of different classes in Training Dataset')\n",
        "plt.show()\n",
        "for i in ['cloudy','rain', 'shine', 'sunrise']:\n",
        "    print('Training {} images are: '.format(i)+str(len(os.listdir(train_dir+i+'/'))))"
      ],
      "metadata": {
        "colab": {
          "base_uri": "https://localhost:8080/",
          "height": 459
        },
        "id": "HxvYAw9ki8CQ",
        "outputId": "4475a0ad-2e25-4e56-fb58-0ef34ede8821"
      },
      "execution_count": 15,
      "outputs": [
        {
          "output_type": "display_data",
          "data": {
            "text/plain": [
              "<Figure size 648x432 with 1 Axes>"
            ],
            "image/png": "[encoded data removed]"
          },
          "metadata": {
            "needs_background": "light"
          }
        },
        {
          "output_type": "stream",
          "name": "stdout",
          "text": [
            "Training cloudy images are: 204\n",
            "Training rain images are: 146\n",
            "Training shine images are: 171\n",
            "Training sunrise images are: 241\n"
          ]
        }
      ]
    },
    {
      "cell_type": "code",
      "source": [
        "image_folder = ['cloudy', 'rain', 'shine', 'sunrise']\n",
        "nimgs = {}\n",
        "for i in image_folder:\n",
        "    nimages = len(os.listdir(val_dir+i+'/'))\n",
        "    nimgs[i]=nimages\n",
        "plt.figure(figsize=(9, 6))\n",
        "plt.bar(range(len(nimgs)), list(nimgs.values()), align='center')\n",
        "plt.xticks(range(len(nimgs)), list(nimgs.keys()))\n",
        "plt.title('Distribution of different classes in Validation Dataset')\n",
        "plt.show()\n",
        "for i in ['cloudy', 'rain', 'shine', 'sunrise']:\n",
        "    print('Valid {} images are: '.format(i)+str(len(os.listdir(val_dir+i+'/'))))"
      ],
      "metadata": {
        "colab": {
          "base_uri": "https://localhost:8080/",
          "height": 459
        },
        "id": "FdjWsRsIkf1O",
        "outputId": "593d32e2-b7a1-4df6-8a22-c75da6317dc1"
      },
      "execution_count": 16,
      "outputs": [
        {
          "output_type": "display_data",
          "data": {
            "text/plain": [
              "<Figure size 648x432 with 1 Axes>"
            ],
            "image/png": "[encoded data removed]"
          },
          "metadata": {
            "needs_background": "light"
          }
        },
        {
          "output_type": "stream",
          "name": "stdout",
          "text": [
            "Valid cloudy images are: 36\n",
            "Valid rain images are: 26\n",
            "Valid shine images are: 31\n",
            "Valid sunrise images are: 43\n"
          ]
        }
      ]
    },
    {
      "cell_type": "code",
      "source": [
        "from tensorflow.keras.optimizers import Adam\n",
        "from tensorflow.keras.preprocessing.image import ImageDataGenerator\n",
        "from tensorflow.keras.layers import Conv2D, MaxPooling2D, Flatten, Dense, Dropout, BatchNormalization\n",
        "from tensorflow.keras.models import Sequential\n",
        "from tensorflow.keras.callbacks import EarlyStopping, ModelCheckpoint\n",
        "import tensorflow as tf"
      ],
      "metadata": {
        "id": "snS-4ULMk0es"
      },
      "execution_count": 17,
      "outputs": []
    },
    {
      "cell_type": "code",
      "source": [
        "\n",
        "\n",
        "train_datagen = ImageDataGenerator(rescale = 1/255.0,\n",
        "                                   rotation_range=30,\n",
        "                                   zoom_range=0.4,\n",
        "                                   horizontal_flip=True)\n",
        "\n",
        "batch_size=16\n",
        "\n",
        "train_generator = train_datagen.flow_from_directory(train_dir,\n",
        "                                                    batch_size=batch_size,\n",
        "                                                    class_mode='categorical',\n",
        "                                      \n",
        "                                                    target_size=(320, 320))"
      ],
      "metadata": {
        "colab": {
          "base_uri": "https://localhost:8080/"
        },
        "id": "mOqC9-64lH_K",
        "outputId": "2f5b48f4-f79a-4122-9900-be79c14a16dc"
      },
      "execution_count": 18,
      "outputs": [
        {
          "output_type": "stream",
          "name": "stdout",
          "text": [
            "Found 762 images belonging to 4 classes.\n"
          ]
        }
      ]
    },
    {
      "cell_type": "code",
      "source": [
        "\n",
        "\n",
        "validation_datagen = ImageDataGenerator(rescale = 1/255.0)\n",
        "\n",
        "validation_generator = validation_datagen.flow_from_directory(val_dir,\n",
        "                                                              batch_size=batch_size,\n",
        "                                                              class_mode='categorical',\n",
        "                                                               shuffle=False,\n",
        "                                                              target_size=(320, 320)\n",
        "                                                             )"
      ],
      "metadata": {
        "colab": {
          "base_uri": "https://localhost:8080/"
        },
        "id": "O2c7Xd0VlUh4",
        "outputId": "4b834b9a-425d-47dd-f1d9-956c67a98bcf"
      },
      "execution_count": 19,
      "outputs": [
        {
          "output_type": "stream",
          "name": "stdout",
          "text": [
            "Found 136 images belonging to 4 classes.\n"
          ]
        }
      ]
    },
    {
      "cell_type": "code",
      "source": [
        "callbacks = EarlyStopping(monitor='val_loss', patience=5, verbose=1, mode='auto')\n",
        "# autosave best Model\n",
        "best_model_file = base_dir + 'CNN-weather-dataset-model-with-ResNet.h5'\n",
        "best_model = ModelCheckpoint(best_model_file, monitor='val_accuracy', verbose = 1, save_best_only = True)"
      ],
      "metadata": {
        "id": "V7uuQA68llUv"
      },
      "execution_count": 20,
      "outputs": []
    },
    {
      "cell_type": "code",
      "source": [
        "from keras.layers.core import Dense, Dropout, Activation, Flatten\n",
        "from keras.layers.convolutional import Conv2D, MaxPooling2D, SeparableConv2D\n",
        "from keras.layers import Input, GlobalAveragePooling2D\n",
        "from keras.models import Model\n",
        "from keras.layers import add"
      ],
      "metadata": {
        "id": "cIeLNVfnFHm2"
      },
      "execution_count": 21,
      "outputs": []
    },
    {
      "cell_type": "code",
      "source": [
        "def residual_module(layer_in, n_filters):\n",
        "\tmerge_input = layer_in\n",
        "\n",
        "\tif layer_in.shape[-1] != n_filters:\n",
        "\t\tmerge_input = Conv2D(n_filters, (1,1), padding='same', activation='relu', kernel_initializer='he_normal')(layer_in)\n",
        "\tconv1 = Conv2D(n_filters, (3,3), padding='same', activation='relu', kernel_initializer='he_normal')(layer_in)\n",
        "\tconv2 = Conv2D(n_filters, (3,3), padding='same', activation='linear', kernel_initializer='he_normal')(conv1)\n",
        "\tlayer_out = add([conv2, merge_input])\n",
        "\tlayer_out = Activation('relu')(layer_out)\n",
        "\treturn layer_out\n",
        "\n",
        " \n",
        "visible = Input(shape=(320, 320, 3))\n",
        "layer = residual_module(visible, 16)\n",
        "layer2 = residual_module(layer, 32)\n",
        "flat_1 = Flatten()(layer)\n",
        "dense_1 = Dense(64, activation='relu')(flat_1)\n",
        "dense_2 = Dense(64, activation='relu')(dense_1)\n",
        "output = Dense(4, activation='softmax')(dense_2)\n",
        "\n",
        "model = Model(inputs=visible, outputs=layer)\n",
        "\n",
        "\n",
        "\n",
        "model = Model([visible], output)\n",
        "model.summary()"
      ],
      "metadata": {
        "id": "fz82fFEWmB_F",
        "colab": {
          "base_uri": "https://localhost:8080/"
        },
        "outputId": "30db1332-fdf7-43c4-8b03-89ea6bca6ea1"
      },
      "execution_count": 22,
      "outputs": [
        {
          "output_type": "stream",
          "name": "stdout",
          "text": [
            "Model: \"model_1\"\n",
            "__________________________________________________________________________________________________\n",
            " Layer (type)                   Output Shape         Param #     Connected to                     \n",
            "==================================================================================================\n",
            " input_1 (InputLayer)           [(None, 320, 320, 3  0           []                               \n",
            "                                )]                                                                \n",
            "                                                                                                  \n",
            " conv2d_1 (Conv2D)              (None, 320, 320, 16  448         ['input_1[0][0]']                \n",
            "                                )                                                                 \n",
            "                                                                                                  \n",
            " conv2d_2 (Conv2D)              (None, 320, 320, 16  2320        ['conv2d_1[0][0]']               \n",
            "                                )                                                                 \n",
            "                                                                                                  \n",
            " conv2d (Conv2D)                (None, 320, 320, 16  64          ['input_1[0][0]']                \n",
            "                                )                                                                 \n",
            "                                                                                                  \n",
            " add (Add)                      (None, 320, 320, 16  0           ['conv2d_2[0][0]',               \n",
            "                                )                                 'conv2d[0][0]']                 \n",
            "                                                                                                  \n",
            " activation (Activation)        (None, 320, 320, 16  0           ['add[0][0]']                    \n",
            "                                )                                                                 \n",
            "                                                                                                  \n",
            " flatten (Flatten)              (None, 1638400)      0           ['activation[0][0]']             \n",
            "                                                                                                  \n",
            " dense (Dense)                  (None, 64)           104857664   ['flatten[0][0]']                \n",
            "                                                                                                  \n",
            " dense_1 (Dense)                (None, 64)           4160        ['dense[0][0]']                  \n",
            "                                                                                                  \n",
            " dense_2 (Dense)                (None, 4)            260         ['dense_1[0][0]']                \n",
            "                                                                                                  \n",
            "==================================================================================================\n",
            "Total params: 104,864,916\n",
            "Trainable params: 104,864,916\n",
            "Non-trainable params: 0\n",
            "__________________________________________________________________________________________________\n"
          ]
        }
      ]
    },
    {
      "cell_type": "code",
      "source": [
        ""
      ],
      "metadata": {
        "id": "nSiNvsuZS12G"
      },
      "execution_count": 22,
      "outputs": []
    },
    {
      "cell_type": "code",
      "source": [
        "# model.load_weights( base_dir + 'CNN-weather-dataset-model-with-ResNet.h5')\n",
        "model.compile(optimizer='Adam', \n",
        "              loss='categorical_crossentropy', \n",
        "              metrics =['accuracy'])\n"
      ],
      "metadata": {
        "id": "zyDE5PVypeak"
      },
      "execution_count": 24,
      "outputs": []
    },
    {
      "cell_type": "code",
      "source": [
        "\n",
        "\n",
        "history = model.fit_generator(train_generator,\n",
        "                              epochs=20,\n",
        "                              verbose=1,\n",
        "                              validation_data=validation_generator,\n",
        "                              callbacks = [best_model]\n",
        "                              )\n"
      ],
      "metadata": {
        "id": "-SiYeCiRpidT",
        "colab": {
          "base_uri": "https://localhost:8080/"
        },
        "outputId": "238fbba6-2143-430a-f198-a14fe18b53ec"
      },
      "execution_count": 25,
      "outputs": [
        {
          "output_type": "stream",
          "name": "stderr",
          "text": [
            "/usr/local/lib/python3.7/dist-packages/ipykernel_launcher.py:7: UserWarning: `Model.fit_generator` is deprecated and will be removed in a future version. Please use `Model.fit`, which supports generators.\n",
            "  import sys\n"
          ]
        },
        {
          "output_type": "stream",
          "name": "stdout",
          "text": [
            "Epoch 1/20\n",
            "48/48 [==============================] - ETA: 0s - loss: 41.2569 - accuracy: 0.5643\n",
            "Epoch 1: val_accuracy improved from -inf to 0.68382, saving model to /content/drive/My Drive/Kaggle/CNN-weather-dataset-model-with-ResNet.h5\n",
            "48/48 [==============================] - 41s 631ms/step - loss: 41.2569 - accuracy: 0.5643 - val_loss: 1.4195 - val_accuracy: 0.6838\n",
            "Epoch 2/20\n",
            "48/48 [==============================] - ETA: 0s - loss: 1.1243 - accuracy: 0.7034\n",
            "Epoch 2: val_accuracy improved from 0.68382 to 0.80882, saving model to /content/drive/My Drive/Kaggle/CNN-weather-dataset-model-with-ResNet.h5\n",
            "48/48 [==============================] - 29s 610ms/step - loss: 1.1243 - accuracy: 0.7034 - val_loss: 0.5452 - val_accuracy: 0.8088\n",
            "Epoch 3/20\n",
            "48/48 [==============================] - ETA: 0s - loss: 0.6959 - accuracy: 0.7585\n",
            "Epoch 3: val_accuracy did not improve from 0.80882\n",
            "48/48 [==============================] - 24s 496ms/step - loss: 0.6959 - accuracy: 0.7585 - val_loss: 0.6302 - val_accuracy: 0.7500\n",
            "Epoch 4/20\n",
            "48/48 [==============================] - ETA: 0s - loss: 0.5789 - accuracy: 0.8058\n",
            "Epoch 4: val_accuracy did not improve from 0.80882\n",
            "48/48 [==============================] - 28s 578ms/step - loss: 0.5789 - accuracy: 0.8058 - val_loss: 0.5529 - val_accuracy: 0.7794\n",
            "Epoch 5/20\n",
            "48/48 [==============================] - ETA: 0s - loss: 0.5107 - accuracy: 0.8189\n",
            "Epoch 5: val_accuracy did not improve from 0.80882\n",
            "48/48 [==============================] - 24s 505ms/step - loss: 0.5107 - accuracy: 0.8189 - val_loss: 0.5265 - val_accuracy: 0.7574\n",
            "Epoch 6/20\n",
            "48/48 [==============================] - ETA: 0s - loss: 0.5353 - accuracy: 0.8163\n",
            "Epoch 6: val_accuracy improved from 0.80882 to 0.84559, saving model to /content/drive/My Drive/Kaggle/CNN-weather-dataset-model-with-ResNet.h5\n",
            "48/48 [==============================] - 36s 763ms/step - loss: 0.5353 - accuracy: 0.8163 - val_loss: 0.4049 - val_accuracy: 0.8456\n",
            "Epoch 7/20\n",
            "48/48 [==============================] - ETA: 0s - loss: 0.5263 - accuracy: 0.8071\n",
            "Epoch 7: val_accuracy did not improve from 0.84559\n",
            "48/48 [==============================] - 28s 571ms/step - loss: 0.5263 - accuracy: 0.8071 - val_loss: 0.4022 - val_accuracy: 0.8162\n",
            "Epoch 8/20\n",
            "48/48 [==============================] - ETA: 0s - loss: 0.5272 - accuracy: 0.8438\n",
            "Epoch 8: val_accuracy did not improve from 0.84559\n",
            "48/48 [==============================] - 24s 494ms/step - loss: 0.5272 - accuracy: 0.8438 - val_loss: 0.4425 - val_accuracy: 0.8309\n",
            "Epoch 9/20\n",
            "48/48 [==============================] - ETA: 0s - loss: 0.4308 - accuracy: 0.8491\n",
            "Epoch 9: val_accuracy did not improve from 0.84559\n",
            "48/48 [==============================] - 24s 499ms/step - loss: 0.4308 - accuracy: 0.8491 - val_loss: 0.3903 - val_accuracy: 0.8456\n",
            "Epoch 10/20\n",
            "48/48 [==============================] - ETA: 0s - loss: 0.4171 - accuracy: 0.8556\n",
            "Epoch 10: val_accuracy did not improve from 0.84559\n",
            "48/48 [==============================] - 24s 492ms/step - loss: 0.4171 - accuracy: 0.8556 - val_loss: 0.5095 - val_accuracy: 0.7721\n",
            "Epoch 11/20\n",
            "48/48 [==============================] - ETA: 0s - loss: 0.3982 - accuracy: 0.8609\n",
            "Epoch 11: val_accuracy improved from 0.84559 to 0.87500, saving model to /content/drive/My Drive/Kaggle/CNN-weather-dataset-model-with-ResNet.h5\n",
            "48/48 [==============================] - 36s 749ms/step - loss: 0.3982 - accuracy: 0.8609 - val_loss: 0.3655 - val_accuracy: 0.8750\n",
            "Epoch 12/20\n",
            "48/48 [==============================] - ETA: 0s - loss: 0.4256 - accuracy: 0.8504\n",
            "Epoch 12: val_accuracy improved from 0.87500 to 0.88235, saving model to /content/drive/My Drive/Kaggle/CNN-weather-dataset-model-with-ResNet.h5\n",
            "48/48 [==============================] - 31s 651ms/step - loss: 0.4256 - accuracy: 0.8504 - val_loss: 0.3466 - val_accuracy: 0.8824\n",
            "Epoch 13/20\n",
            "48/48 [==============================] - ETA: 0s - loss: 0.3793 - accuracy: 0.8570\n",
            "Epoch 13: val_accuracy did not improve from 0.88235\n",
            "48/48 [==============================] - 27s 549ms/step - loss: 0.3793 - accuracy: 0.8570 - val_loss: 0.4178 - val_accuracy: 0.8309\n",
            "Epoch 14/20\n",
            "48/48 [==============================] - ETA: 0s - loss: 0.4002 - accuracy: 0.8701\n",
            "Epoch 14: val_accuracy did not improve from 0.88235\n",
            "48/48 [==============================] - 24s 490ms/step - loss: 0.4002 - accuracy: 0.8701 - val_loss: 0.3676 - val_accuracy: 0.8529\n",
            "Epoch 15/20\n",
            "48/48 [==============================] - ETA: 0s - loss: 0.3974 - accuracy: 0.8596\n",
            "Epoch 15: val_accuracy did not improve from 0.88235\n",
            "48/48 [==============================] - 24s 498ms/step - loss: 0.3974 - accuracy: 0.8596 - val_loss: 0.2918 - val_accuracy: 0.8824\n",
            "Epoch 16/20\n",
            "48/48 [==============================] - ETA: 0s - loss: 0.3396 - accuracy: 0.8806\n",
            "Epoch 16: val_accuracy did not improve from 0.88235\n",
            "48/48 [==============================] - 24s 498ms/step - loss: 0.3396 - accuracy: 0.8806 - val_loss: 0.3040 - val_accuracy: 0.8603\n",
            "Epoch 17/20\n",
            "48/48 [==============================] - ETA: 0s - loss: 0.3155 - accuracy: 0.8924\n",
            "Epoch 17: val_accuracy did not improve from 0.88235\n",
            "48/48 [==============================] - 23s 488ms/step - loss: 0.3155 - accuracy: 0.8924 - val_loss: 0.3063 - val_accuracy: 0.8824\n",
            "Epoch 18/20\n",
            "48/48 [==============================] - ETA: 0s - loss: 0.3930 - accuracy: 0.8635\n",
            "Epoch 18: val_accuracy did not improve from 0.88235\n",
            "48/48 [==============================] - 23s 488ms/step - loss: 0.3930 - accuracy: 0.8635 - val_loss: 0.4250 - val_accuracy: 0.8235\n",
            "Epoch 19/20\n",
            "48/48 [==============================] - ETA: 0s - loss: 0.3914 - accuracy: 0.8530\n",
            "Epoch 19: val_accuracy did not improve from 0.88235\n",
            "48/48 [==============================] - 24s 490ms/step - loss: 0.3914 - accuracy: 0.8530 - val_loss: 0.4060 - val_accuracy: 0.8309\n",
            "Epoch 20/20\n",
            "48/48 [==============================] - ETA: 0s - loss: 0.4213 - accuracy: 0.8491\n",
            "Epoch 20: val_accuracy did not improve from 0.88235\n",
            "48/48 [==============================] - 25s 513ms/step - loss: 0.4213 - accuracy: 0.8491 - val_loss: 0.3644 - val_accuracy: 0.8603\n"
          ]
        }
      ]
    },
    {
      "cell_type": "code",
      "source": [
        "acc=history.history['accuracy']\n",
        "val_acc=history.history['val_accuracy']\n",
        "loss=history.history['loss']\n",
        "val_loss=history.history['val_loss']\n",
        "\n",
        "epochs=range(len(acc))\n",
        "\n",
        "fig = plt.figure(figsize=(14,7))\n",
        "plt.plot(epochs, acc, 'r', label=\"Training Accuracy\")\n",
        "plt.plot(epochs, val_acc, 'b', label=\"Validation Accuracy\")\n",
        "plt.xlabel('Epoch')\n",
        "plt.ylabel('Accuracy')\n",
        "plt.title('Training and validation accuracy')\n",
        "plt.legend(loc='lower right')\n",
        "plt.show()"
      ],
      "metadata": {
        "id": "JGASFNdG0vKR",
        "colab": {
          "base_uri": "https://localhost:8080/",
          "height": 458
        },
        "outputId": "71cee592-e5c1-4872-8250-daed4a9020d6"
      },
      "execution_count": 26,
      "outputs": [
        {
          "output_type": "display_data",
          "data": {
            "text/plain": [
              "<Figure size 1008x504 with 1 Axes>"
            ],
            "image/png": "[encoded data removed]"
          },
          "metadata": {
            "needs_background": "light"
          }
        }
      ]
    },
    {
      "cell_type": "code",
      "source": [
        "fig2 = plt.figure(figsize=(14,7))\n",
        "plt.plot(epochs, loss, 'r', label=\"Training Loss\")\n",
        "plt.plot(epochs, val_loss, 'b', label=\"Validation Loss\")\n",
        "plt.legend(loc='upper right')\n",
        "plt.xlabel('Epoch')\n",
        "plt.ylabel('Loss')\n",
        "plt.title('Training and validation loss')"
      ],
      "metadata": {
        "id": "WCENHWiu01jH",
        "colab": {
          "base_uri": "https://localhost:8080/",
          "height": 475
        },
        "outputId": "66f94763-5fbd-4a5a-84d7-6aec6e1a8338"
      },
      "execution_count": 27,
      "outputs": [
        {
          "output_type": "execute_result",
          "data": {
            "text/plain": [
              "Text(0.5, 1.0, 'Training and validation loss')"
            ]
          },
          "metadata": {},
          "execution_count": 27
        },
        {
          "output_type": "display_data",
          "data": {
            "text/plain": [
              "<Figure size 1008x504 with 1 Axes>"
            ],
            "image/png": "[encoded data removed]"
          },
          "metadata": {
            "needs_background": "light"
          }
        }
      ]
    },
    {
      "cell_type": "code",
      "source": [
        "from sklearn.metrics import classification_report\n",
        "from sklearn.metrics import confusion_matrix\n",
        "\n",
        "\n",
        "\n",
        "loss, acc = model.evaluate_generator(validation_generator)\n",
        "print(\"Accuracy:\",acc,\"Loss:\",loss)\n",
        "probabilities = model.predict_generator(generator=validation_generator)\n",
        "y_t = validation_generator.classes\n",
        "print(y_t)\n",
        "y_p=np.argmax(probabilities, axis=1)\n",
        "\n",
        "print(y_p)\n",
        "print('\\n\\nValidate Predict Report===============\\n')\n",
        "print(classification_report(y_p,y_t))\n",
        "print('\\n\\nValidate Cunfusion Matrix===============\\n')\n",
        "matrix_confusion=(confusion_matrix(y_p,y_t))\n",
        "sns.heatmap(matrix_confusion, square=True, annot=True, cmap='Blues', fmt='d', cbar=False)"
      ],
      "metadata": {
        "id": "UheK9ka88fKj",
        "colab": {
          "base_uri": "https://localhost:8080/",
          "height": 838
        },
        "outputId": "ca522ec5-6ae0-40ac-8a32-bc95335a5d8f"
      },
      "execution_count": 28,
      "outputs": [
        {
          "output_type": "stream",
          "name": "stderr",
          "text": [
            "/usr/local/lib/python3.7/dist-packages/ipykernel_launcher.py:6: UserWarning: `Model.evaluate_generator` is deprecated and will be removed in a future version. Please use `Model.evaluate`, which supports generators.\n",
            "  \n"
          ]
        },
        {
          "output_type": "stream",
          "name": "stdout",
          "text": [
            "Accuracy: 0.8602941036224365 Loss: 0.3643532991409302\n"
          ]
        },
        {
          "output_type": "stream",
          "name": "stderr",
          "text": [
            "/usr/local/lib/python3.7/dist-packages/ipykernel_launcher.py:8: UserWarning: `Model.predict_generator` is deprecated and will be removed in a future version. Please use `Model.predict`, which supports generators.\n",
            "  \n"
          ]
        },
        {
          "output_type": "stream",
          "name": "stdout",
          "text": [
            "[0 0 0 0 0 0 0 0 0 0 0 0 0 0 0 0 0 0 0 0 0 0 0 0 0 0 0 0 0 0 0 0 0 0 0 0 1\n",
            " 1 1 1 1 1 1 1 1 1 1 1 1 1 1 1 1 1 1 1 1 1 1 1 1 1 2 2 2 2 2 2 2 2 2 2 2 2\n",
            " 2 2 2 2 2 2 2 2 2 2 2 2 2 2 2 2 2 2 2 3 3 3 3 3 3 3 3 3 3 3 3 3 3 3 3 3 3\n",
            " 3 3 3 3 3 3 3 3 3 3 3 3 3 3 3 3 3 3 3 3 3 3 3 3 3]\n",
            "[0 0 2 0 2 2 0 0 1 1 0 0 0 0 0 0 0 0 0 0 0 0 2 3 0 0 0 0 2 0 1 2 3 0 0 2 1\n",
            " 1 1 1 1 1 1 1 1 1 1 3 1 1 1 1 2 1 1 1 1 2 1 1 2 0 2 2 1 2 2 2 2 2 2 2 2 2\n",
            " 2 2 2 2 2 2 2 2 2 2 2 2 2 2 2 2 2 2 2 3 3 3 3 3 3 3 3 3 3 3 3 3 3 3 3 3 3\n",
            " 3 3 3 3 3 3 3 3 3 3 3 3 3 3 3 3 3 3 2 3 3 3 3 3 3]\n",
            "\n",
            "\n",
            "Validate Predict Report===============\n",
            "\n",
            "              precision    recall  f1-score   support\n",
            "\n",
            "           0       0.67      0.96      0.79        25\n",
            "           1       0.81      0.84      0.82        25\n",
            "           2       0.97      0.73      0.83        41\n",
            "           3       0.98      0.93      0.95        45\n",
            "\n",
            "    accuracy                           0.86       136\n",
            "   macro avg       0.85      0.87      0.85       136\n",
            "weighted avg       0.89      0.86      0.86       136\n",
            "\n",
            "\n",
            "\n",
            "Validate Cunfusion Matrix===============\n",
            "\n"
          ]
        },
        {
          "output_type": "execute_result",
          "data": {
            "text/plain": [
              "<matplotlib.axes._subplots.AxesSubplot at 0x7fdb3009bfd0>"
            ]
          },
          "metadata": {},
          "execution_count": 28
        },
        {
          "output_type": "display_data",
          "data": {
            "text/plain": [
              "<Figure size 432x288 with 1 Axes>"
            ],
            "image/png": "[encoded data removed]"
          },
          "metadata": {
            "needs_background": "light"
          }
        }
      ]
    },
    {
      "cell_type": "markdown",
      "source": [
        ""
      ],
      "metadata": {
        "id": "6QnttKFHaBdi"
      }
    },
    {
      "cell_type": "code",
      "source": [
        "test_datagen = ImageDataGenerator(rescale = 1/255.0)\n",
        "\n",
        "test_generator = test_datagen.flow_from_directory(test_dir,\n",
        "                                                              batch_size=batch_size,\n",
        "                                                              class_mode='categorical',\n",
        "                                                               shuffle=False,\n",
        "                                                              target_size=(320, 320)\n",
        "                                                             )\n",
        "\n",
        "loss, acc = model.evaluate_generator(test_generator)\n",
        "print(\"Accuracy:\",acc,\"Loss:\",loss)\n",
        "probabilities = model.predict_generator(generator=test_generator)\n",
        "y_t = test_generator.classes\n",
        "print(y_t)\n",
        "y_p=np.argmax(probabilities, axis=1)\n",
        "\n",
        "print(y_p)\n",
        "print('\\n\\nValidate Predict Report===============\\n')\n",
        "print(classification_report(y_p,y_t))\n",
        "print('\\n\\nValidate Cunfusion Matrix===============\\n')\n",
        "matrix_confusion=(confusion_matrix(y_p,y_t))\n",
        "sns.heatmap(matrix_confusion, square=True, annot=True, cmap='Blues', fmt='d', cbar=False)"
      ],
      "metadata": {
        "id": "lSs_Lcda-m3e",
        "colab": {
          "base_uri": "https://localhost:8080/",
          "height": 979
        },
        "outputId": "2ebe3df3-470d-4db3-bcee-92aeed188326"
      },
      "execution_count": 29,
      "outputs": [
        {
          "output_type": "stream",
          "name": "stdout",
          "text": [
            "Found 226 images belonging to 4 classes.\n"
          ]
        },
        {
          "output_type": "stream",
          "name": "stderr",
          "text": [
            "/usr/local/lib/python3.7/dist-packages/ipykernel_launcher.py:10: UserWarning: `Model.evaluate_generator` is deprecated and will be removed in a future version. Please use `Model.evaluate`, which supports generators.\n",
            "  # Remove the CWD from sys.path while we load stuff.\n"
          ]
        },
        {
          "output_type": "stream",
          "name": "stdout",
          "text": [
            "Accuracy: 0.8761062026023865 Loss: 0.3389929234981537\n"
          ]
        },
        {
          "output_type": "stream",
          "name": "stderr",
          "text": [
            "/usr/local/lib/python3.7/dist-packages/ipykernel_launcher.py:12: UserWarning: `Model.predict_generator` is deprecated and will be removed in a future version. Please use `Model.predict`, which supports generators.\n",
            "  if sys.path[0] == '':\n"
          ]
        },
        {
          "output_type": "stream",
          "name": "stdout",
          "text": [
            "[0 0 0 0 0 0 0 0 0 0 0 0 0 0 0 0 0 0 0 0 0 0 0 0 0 0 0 0 0 0 0 0 0 0 0 0 0\n",
            " 0 0 0 0 0 0 0 0 0 0 0 0 0 0 0 0 0 0 0 0 0 0 0 1 1 1 1 1 1 1 1 1 1 1 1 1 1\n",
            " 1 1 1 1 1 1 1 1 1 1 1 1 1 1 1 1 1 1 1 1 1 1 1 1 1 1 1 1 1 2 2 2 2 2 2 2 2\n",
            " 2 2 2 2 2 2 2 2 2 2 2 2 2 2 2 2 2 2 2 2 2 2 2 2 2 2 2 2 2 2 2 2 2 2 2 2 2\n",
            " 2 2 2 2 2 2 3 3 3 3 3 3 3 3 3 3 3 3 3 3 3 3 3 3 3 3 3 3 3 3 3 3 3 3 3 3 3\n",
            " 3 3 3 3 3 3 3 3 3 3 3 3 3 3 3 3 3 3 3 3 3 3 3 3 3 3 3 3 3 3 3 3 3 3 3 3 3\n",
            " 3 3 3 3]\n",
            "[0 0 2 2 0 2 0 3 0 2 2 0 0 0 0 0 2 0 3 0 0 0 0 2 0 2 3 0 0 2 0 0 2 0 0 0 0\n",
            " 0 0 0 0 0 0 0 0 0 0 3 0 0 1 0 3 0 0 0 0 0 0 0 1 1 1 1 1 1 1 3 1 1 0 0 1 1\n",
            " 1 3 1 1 1 1 1 1 2 1 1 1 1 1 1 2 1 0 1 1 1 1 1 1 1 1 1 1 2 2 2 2 2 2 2 2 2\n",
            " 2 2 2 2 2 2 2 2 2 2 2 2 2 2 2 2 2 2 2 2 2 2 2 2 2 2 2 2 2 2 2 2 2 2 2 2 2\n",
            " 2 2 2 2 0 2 3 3 3 2 2 3 3 3 3 3 3 3 3 3 3 3 3 3 3 3 3 3 3 3 3 3 3 3 3 3 3\n",
            " 3 3 3 3 3 3 3 3 3 3 3 3 3 3 3 3 3 3 3 3 3 3 3 3 3 3 2 3 3 3 3 3 3 3 3 3 3\n",
            " 3 3 3 3]\n",
            "\n",
            "\n",
            "Validate Predict Report===============\n",
            "\n",
            "              precision    recall  f1-score   support\n",
            "\n",
            "           0       0.73      0.92      0.81        48\n",
            "           1       0.81      0.97      0.89        36\n",
            "           2       0.98      0.76      0.85        66\n",
            "           3       0.96      0.91      0.93        76\n",
            "\n",
            "    accuracy                           0.88       226\n",
            "   macro avg       0.87      0.89      0.87       226\n",
            "weighted avg       0.89      0.88      0.88       226\n",
            "\n",
            "\n",
            "\n",
            "Validate Cunfusion Matrix===============\n",
            "\n"
          ]
        },
        {
          "output_type": "execute_result",
          "data": {
            "text/plain": [
              "<matplotlib.axes._subplots.AxesSubplot at 0x7fda2a9f5210>"
            ]
          },
          "metadata": {},
          "execution_count": 29
        },
        {
          "output_type": "display_data",
          "data": {
            "text/plain": [
              "<Figure size 432x288 with 1 Axes>"
            ],
            "image/png": "[encoded data removed]"
          },
          "metadata": {
            "needs_background": "light"
          }
        }
      ]
    }
  ]
}