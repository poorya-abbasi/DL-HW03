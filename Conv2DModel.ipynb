{
  "nbformat": 4,
  "nbformat_minor": 0,
  "metadata": {
    "colab": {
      "name": "Dense-Conv2D-module.ipynb",
      "provenance": [],
      "collapsed_sections": [],
      "include_colab_link": true
    },
    "kernelspec": {
      "name": "python3",
      "display_name": "Python 3"
    },
    "language_info": {
      "name": "python"
    },
    "accelerator": "GPU"
  },
  "cells": [
    {
      "cell_type": "markdown",
      "metadata": {
        "id": "view-in-github",
        "colab_type": "text"
      },
      "source": [
        "<a href=\"https://colab.research.google.com/github/poorya-abbasi/DL-HW03/blob/main/Conv2DModel.ipynb\" target=\"_parent\"><img src=\"https://colab.research.google.com/assets/colab-badge.svg\" alt=\"Open In Colab\"/></a>"
      ]
    },
    {
      "cell_type": "code",
      "execution_count": 2,
      "metadata": {
        "id": "afno_iYjVtD7",
        "outputId": "79380d74-700a-430d-bec8-f25e3af7968c",
        "colab": {
          "base_uri": "https://localhost:8080/"
        }
      },
      "outputs": [
        {
          "output_type": "stream",
          "name": "stdout",
          "text": [
            "Drive already mounted at /content/drive; to attempt to forcibly remount, call drive.mount(\"/content/drive\", force_remount=True).\n"
          ]
        }
      ],
      "source": [
        "from google.colab import drive \n",
        "drive.mount('/content/drive')"
      ]
    },
    {
      "cell_type": "code",
      "source": [
        "import os\n",
        "os.environ['KAGGLE_CONFIG_DIR'] = '/content/drive/MyDrive/Kaggle'"
      ],
      "metadata": {
        "id": "X45uuhumVxat"
      },
      "execution_count": 3,
      "outputs": []
    },
    {
      "cell_type": "code",
      "source": [
        "#os.mkdir('/content/drive/MyDrive/Kaggle')"
      ],
      "metadata": {
        "id": "puVnLZl90mFp"
      },
      "execution_count": 4,
      "outputs": []
    },
    {
      "cell_type": "code",
      "source": [
        "\n",
        "%cd /content/drive/MyDrive/Kaggle/"
      ],
      "metadata": {
        "colab": {
          "base_uri": "https://localhost:8080/"
        },
        "id": "6nHMfI_rVynz",
        "outputId": "c29ae4c6-1379-4cd8-a586-da4ddceec852"
      },
      "execution_count": 5,
      "outputs": [
        {
          "output_type": "stream",
          "name": "stdout",
          "text": [
            "/content/drive/MyDrive/Kaggle\n"
          ]
        }
      ]
    },
    {
      "cell_type": "code",
      "source": [
        "!kaggle datasets download -d pratik2901/multiclass-weather-dataset"
      ],
      "metadata": {
        "colab": {
          "base_uri": "https://localhost:8080/"
        },
        "id": "RAl21YI3VyuD",
        "outputId": "e30655a1-09ad-460d-89b2-f71177a995aa"
      },
      "execution_count": 6,
      "outputs": [
        {
          "output_type": "stream",
          "name": "stdout",
          "text": [
            "multiclass-weather-dataset.zip: Skipping, found more recently modified local copy (use --force to force download)\n"
          ]
        }
      ]
    },
    {
      "cell_type": "code",
      "source": [
        "!ls"
      ],
      "metadata": {
        "colab": {
          "base_uri": "https://localhost:8080/"
        },
        "id": "yM0WepR0V2CS",
        "outputId": "5b188c5c-54b8-434f-8283-ede728f8516e"
      },
      "execution_count": 7,
      "outputs": [
        {
          "output_type": "stream",
          "name": "stdout",
          "text": [
            " best-val-acc-model.h5\t\t\t  kaggle.json\n",
            " data\t\t\t\t\t 'Multi-class Weather Dataset'\n",
            " Dense-Conv2D-Pooling-Dropout-K-fold.h5   multiclass-weather-dataset.zip\n",
            " dense-model.h5\n"
          ]
        }
      ]
    },
    {
      "cell_type": "code",
      "source": [
        "base_dir = '/content/drive/My Drive/Kaggle/'\n",
        "!unzip -u \"multiclass-weather-dataset.zip\" -d '/content/drive/My Drive/Kaggle/'\n",
        "dataset_dir_name = 'Multi-class Weather Dataset'\n",
        "dataset_dir = base_dir + dataset_dir_name"
      ],
      "metadata": {
        "colab": {
          "base_uri": "https://localhost:8080/"
        },
        "id": "SXPBKwQ3V3rU",
        "outputId": "fce37eb8-c357-424c-be8d-ab8fd4cde6ca"
      },
      "execution_count": 8,
      "outputs": [
        {
          "output_type": "stream",
          "name": "stdout",
          "text": [
            "Archive:  multiclass-weather-dataset.zip\n"
          ]
        }
      ]
    },
    {
      "cell_type": "code",
      "source": [
        "max_height = -1\n",
        "max_width = -1"
      ],
      "metadata": {
        "id": "IzCixrPdV5VV"
      },
      "execution_count": 9,
      "outputs": []
    },
    {
      "cell_type": "code",
      "source": [
        "import cv2\n",
        "import imutils\n",
        "import numpy as np\n"
      ],
      "metadata": {
        "id": "r_oPFkFWWDNw"
      },
      "execution_count": 10,
      "outputs": []
    },
    {
      "cell_type": "code",
      "source": [
        "'''images = []\n",
        "labels = []\n",
        "convert = {'Cloudy':0, 'Rain':1, 'Shine':2, 'Sunrise':3}\n",
        "\n",
        "path = dataset_dir\n",
        "print(os.listdir(path))\n",
        "for filename in os.listdir(path):\n",
        "  for filename1 in os.listdir(path+'/'+filename):\n",
        "      img = cv2.imread(path+'/'+filename+'/'+filename1)\n",
        "      \n",
        "      if img is not None:\n",
        "        if(img.shape[1]>256):\n",
        "          img = imutils.resize(img, width=256)\n",
        "        images.append(img)\n",
        "        #print(img.shape)\n",
        "        labels.append(convert[filename])\n",
        "        max_height = max(max_height, img.shape[0])\n",
        "        max_width = max(max_width, img.shape[1])'''"
      ],
      "metadata": {
        "colab": {
          "base_uri": "https://localhost:8080/",
          "height": 70
        },
        "id": "s6fClLX8WH-D",
        "outputId": "adbe4a33-f168-49ed-f445-fe8df50ed7c8"
      },
      "execution_count": 11,
      "outputs": [
        {
          "output_type": "execute_result",
          "data": {
            "text/plain": [
              "\"images = []\\nlabels = []\\nconvert = {'Cloudy':0, 'Rain':1, 'Shine':2, 'Sunrise':3}\\n\\npath = dataset_dir\\nprint(os.listdir(path))\\nfor filename in os.listdir(path):\\n  for filename1 in os.listdir(path+'/'+filename):\\n      img = cv2.imread(path+'/'+filename+'/'+filename1)\\n      \\n      if img is not None:\\n        if(img.shape[1]>256):\\n          img = imutils.resize(img, width=256)\\n        images.append(img)\\n        #print(img.shape)\\n        labels.append(convert[filename])\\n        max_height = max(max_height, img.shape[0])\\n        max_width = max(max_width, img.shape[1])\""
            ],
            "application/vnd.google.colaboratory.intrinsic+json": {
              "type": "string"
            }
          },
          "metadata": {},
          "execution_count": 11
        }
      ]
    },
    {
      "cell_type": "code",
      "source": [
        "print(max_height)\n",
        "print(max_width)\n"
      ],
      "metadata": {
        "colab": {
          "base_uri": "https://localhost:8080/"
        },
        "id": "XUU_3ZdTWNHs",
        "outputId": "e4ced470-b11a-4c36-dfbb-a4ff60e73be3"
      },
      "execution_count": 12,
      "outputs": [
        {
          "output_type": "stream",
          "name": "stdout",
          "text": [
            "-1\n",
            "-1\n"
          ]
        }
      ]
    },
    {
      "cell_type": "code",
      "source": [
        "'''from matplotlib import pyplot\n",
        "\n",
        "img = images[413]\n",
        "#pyplot.imshow(img, cmap=pyplot.get_cmap('gray'))\n",
        "pyplot.imshow(img)\n",
        "# show the figure\n",
        "pyplot.show()\n",
        "print(img.shape)\n",
        "\n",
        "images=np.array(images)\n",
        "ll = np.zeros((len(labels),10))\n",
        "for i in range(len(labels)):\n",
        "  ll[i][labels[i]]=1\n",
        "from sklearn.model_selection import train_test_split\n",
        "X_train, X_test, y_train, y_test = train_test_split(images, ll, test_size=0.15, random_state=42)'''\n"
      ],
      "metadata": {
        "colab": {
          "base_uri": "https://localhost:8080/",
          "height": 70
        },
        "id": "Za0xxIPFWOie",
        "outputId": "35dc82db-9eec-49fe-cf25-0f88ffcf2ba2"
      },
      "execution_count": 13,
      "outputs": [
        {
          "output_type": "execute_result",
          "data": {
            "text/plain": [
              "\"from matplotlib import pyplot\\n\\nimg = images[413]\\n#pyplot.imshow(img, cmap=pyplot.get_cmap('gray'))\\npyplot.imshow(img)\\n# show the figure\\npyplot.show()\\nprint(img.shape)\\n\\nimages=np.array(images)\\nll = np.zeros((len(labels),10))\\nfor i in range(len(labels)):\\n  ll[i][labels[i]]=1\\nfrom sklearn.model_selection import train_test_split\\nX_train, X_test, y_train, y_test = train_test_split(images, ll, test_size=0.15, random_state=42)\""
            ],
            "application/vnd.google.colaboratory.intrinsic+json": {
              "type": "string"
            }
          },
          "metadata": {},
          "execution_count": 13
        }
      ]
    },
    {
      "cell_type": "code",
      "source": [
        "\n",
        "train_dir = base_dir+\"/data/train/\"\n",
        "\n",
        "val_dir = base_dir + '/data/validate/'\n",
        "tmp_dir = base_dir + '/data/temp/'\n",
        "test_dir = base_dir + '/data/test/'\n",
        "\n",
        "CLOUDY_SRC = dataset_dir + '/Cloudy/'\n",
        "CLOUDY_TMP = tmp_dir + 'cloudy/'\n",
        "CLOUDY_T = train_dir + 'cloudy/'\n",
        "CLOUDY_V = val_dir + 'cloudy/'\n",
        "CLOUDY_TEST = test_dir + 'cloudy/'\n",
        "\n",
        "RAINY_SRC = dataset_dir + '/Rain/'\n",
        "RAINY_TMP = tmp_dir + '/rain/'\n",
        "RAINY_T = train_dir + '/rain/'\n",
        "RAINY_V = val_dir + 'rain/'\n",
        "RAINY_TEST = test_dir + 'rain/'\n",
        "\n",
        "SHINE_SRC = dataset_dir + '/Shine/'\n",
        "SHINE_TMP = tmp_dir + 'shine/'\n",
        "SHINE_T = train_dir + 'shine/'\n",
        "SHINE_V = val_dir + 'shine/'\n",
        "SHINE_TEST = test_dir + 'shine/'\n",
        "\n",
        "SUNRISE_SRC = dataset_dir + '/Sunrise/'\n",
        "SUNRISE_TMP = tmp_dir + 'sunrise/'\n",
        "SUNRISE_T = train_dir + 'sunrise/'\n",
        "SUNRISE_V = val_dir + 'sunrise/'\n",
        "SUNRISE_TEST = test_dir + 'sunrise/'\n",
        "\n"
      ],
      "metadata": {
        "id": "g-NfY_j3ZQXK"
      },
      "execution_count": 14,
      "outputs": []
    },
    {
      "cell_type": "code",
      "source": [
        "import shutil\n",
        "\n",
        "shutil.rmtree(base_dir+'data')\n",
        "os.mkdir(base_dir+'data')\n",
        "os.mkdir(train_dir)\n",
        "os.mkdir(val_dir)\n",
        "os.mkdir(test_dir)\n",
        "os.mkdir(tmp_dir)\n",
        "#sub folders for train\n",
        "\n",
        "os.mkdir(CLOUDY_T)\n",
        "os.mkdir(RAINY_T)\n",
        "os.mkdir(SHINE_T)\n",
        "os.mkdir(SUNRISE_T)\n",
        "\n",
        "#sub folders for validate\n",
        "os.mkdir(CLOUDY_V)\n",
        "os.mkdir(RAINY_V)\n",
        "os.mkdir(SHINE_V)\n",
        "os.mkdir(SUNRISE_V)\n",
        "\n",
        "#sub folders for validate\n",
        "os.mkdir(CLOUDY_TMP)\n",
        "os.mkdir(RAINY_TMP)\n",
        "os.mkdir(SHINE_TMP)\n",
        "os.mkdir(SUNRISE_TMP)\n",
        "\n",
        "#sub folders for validate\n",
        "os.mkdir(CLOUDY_TEST)\n",
        "os.mkdir(RAINY_TEST)\n",
        "os.mkdir(SHINE_TEST)\n",
        "os.mkdir(SUNRISE_TEST)\n",
        "\n"
      ],
      "metadata": {
        "id": "48eVT4CreYLJ"
      },
      "execution_count": 15,
      "outputs": []
    },
    {
      "cell_type": "markdown",
      "source": [
        "# Spliting Data to validatde and Train"
      ],
      "metadata": {
        "id": "QfyFyqrMfGPK"
      }
    },
    {
      "cell_type": "code",
      "source": [
        "import os\n",
        "import random\n",
        "from shutil import copyfile\n",
        "\n",
        "def split_data(SOURCE, TRAINING, VALIDATION, SPLIT_SIZE):\n",
        "    files = []\n",
        "    for filename in os.listdir(SOURCE):\n",
        "        file = SOURCE + filename\n",
        "        if os.path.getsize(file) > 0:\n",
        "            files.append(filename)\n",
        "        else:\n",
        "            print(filename + \" is zero length, so ignoring.\")\n",
        "\n",
        "    training_length = int(len(files) * SPLIT_SIZE)\n",
        "    valid_length = int(len(files) - training_length)\n",
        "    shuffled_set = random.sample(files, len(files))\n",
        "    training_set = shuffled_set[0:training_length]\n",
        "    valid_set = shuffled_set[training_length:]\n",
        "\n",
        "    for filename in training_set:\n",
        "        this_file = SOURCE + filename\n",
        "        destination = TRAINING + filename\n",
        "        copyfile(this_file, destination)\n",
        "\n",
        "    for filename in valid_set:\n",
        "        this_file = SOURCE + filename\n",
        "        destination = VALIDATION + filename\n",
        "        copyfile(this_file, destination)\n",
        "\n",
        "\n",
        "\n",
        "train_split_size = .8\n",
        "validate_split_size =.9\n",
        "\n",
        "split_data(CLOUDY_SRC, CLOUDY_TMP, CLOUDY_TEST, train_split_size)\n",
        "split_data(RAINY_SRC, RAINY_TMP, RAINY_TEST, train_split_size)\n",
        "split_data(SHINE_SRC, SHINE_TMP, SHINE_TEST, train_split_size)\n",
        "split_data(SUNRISE_SRC, SUNRISE_TMP, SUNRISE_TEST, train_split_size)\n",
        "\n",
        "split_data(CLOUDY_TMP, CLOUDY_T, CLOUDY_V, validate_split_size)\n",
        "split_data(RAINY_TMP, RAINY_T, RAINY_V, validate_split_size)\n",
        "split_data(SHINE_TMP, SHINE_T, SHINE_V, validate_split_size)\n",
        "split_data(SUNRISE_TMP, SUNRISE_T, SUNRISE_V, validate_split_size)\n"
      ],
      "metadata": {
        "id": "eQwXYSKNfFoT",
        "colab": {
          "base_uri": "https://localhost:8080/"
        },
        "outputId": "49784ec1-e224-40db-d5ad-2056a0c1539b"
      },
      "execution_count": 16,
      "outputs": [
        {
          "output_type": "stream",
          "name": "stdout",
          "text": [
            "sunrise88.jpg is zero length, so ignoring.\n"
          ]
        }
      ]
    },
    {
      "cell_type": "code",
      "source": [
        "import matplotlib.pyplot as plt\n",
        "import seaborn as sns\n",
        "from matplotlib.image import imread\n",
        "import pathlib\n",
        "\n",
        "image_folder = ['cloudy', 'rain', 'shine', 'sunrise']\n",
        "nimgs = {}\n",
        "for i in image_folder:\n",
        "    nimages = len(os.listdir(train_dir+i+'/'))\n",
        "    nimgs[i]=nimages\n",
        "plt.figure(figsize=(9, 6))\n",
        "plt.bar(range(len(nimgs)), list(nimgs.values()), align='center')\n",
        "plt.xticks(range(len(nimgs)), list(nimgs.keys()))\n",
        "plt.title('Distribution of different classes in Training Dataset')\n",
        "plt.show()\n",
        "for i in ['cloudy','rain', 'shine', 'sunrise']:\n",
        "    print('Training {} images are: '.format(i)+str(len(os.listdir(train_dir+i+'/'))))"
      ],
      "metadata": {
        "id": "HxvYAw9ki8CQ",
        "colab": {
          "base_uri": "https://localhost:8080/",
          "height": 459
        },
        "outputId": "70d27d92-f75b-4387-adf2-521ff1346952"
      },
      "execution_count": 17,
      "outputs": [
        {
          "output_type": "display_data",
          "data": {
            "text/plain": [
              "<Figure size 648x432 with 1 Axes>"
            ],
            "image/png": "[encoded data removed]"
          },
          "metadata": {
            "needs_background": "light"
          }
        },
        {
          "output_type": "stream",
          "name": "stdout",
          "text": [
            "Training cloudy images are: 216\n",
            "Training rain images are: 154\n",
            "Training shine images are: 181\n",
            "Training sunrise images are: 255\n"
          ]
        }
      ]
    },
    {
      "cell_type": "code",
      "source": [
        "image_folder = ['cloudy', 'rain', 'shine', 'sunrise']\n",
        "nimgs = {}\n",
        "for i in image_folder:\n",
        "    nimages = len(os.listdir(val_dir+i+'/'))\n",
        "    nimgs[i]=nimages\n",
        "plt.figure(figsize=(9, 6))\n",
        "plt.bar(range(len(nimgs)), list(nimgs.values()), align='center')\n",
        "plt.xticks(range(len(nimgs)), list(nimgs.keys()))\n",
        "plt.title('Distribution of different classes in Validation Dataset')\n",
        "plt.show()\n",
        "for i in ['cloudy', 'rain', 'shine', 'sunrise']:\n",
        "    print('Valid {} images are: '.format(i)+str(len(os.listdir(val_dir+i+'/'))))"
      ],
      "metadata": {
        "id": "FdjWsRsIkf1O",
        "colab": {
          "base_uri": "https://localhost:8080/",
          "height": 459
        },
        "outputId": "2edbd226-6c6f-4c59-d9d3-31ee947f2b9d"
      },
      "execution_count": 18,
      "outputs": [
        {
          "output_type": "display_data",
          "data": {
            "text/plain": [
              "<Figure size 648x432 with 1 Axes>"
            ],
            "image/png": "[encoded data removed]"
          },
          "metadata": {
            "needs_background": "light"
          }
        },
        {
          "output_type": "stream",
          "name": "stdout",
          "text": [
            "Valid cloudy images are: 24\n",
            "Valid rain images are: 18\n",
            "Valid shine images are: 21\n",
            "Valid sunrise images are: 29\n"
          ]
        }
      ]
    },
    {
      "cell_type": "code",
      "source": [
        "from tensorflow.keras.optimizers import Adam\n",
        "from tensorflow.keras.preprocessing.image import ImageDataGenerator\n",
        "from tensorflow.keras.layers import Conv2D, MaxPooling2D, Flatten, Dense, Dropout, BatchNormalization\n",
        "from tensorflow.keras.models import Sequential\n",
        "from tensorflow.keras.callbacks import EarlyStopping, ModelCheckpoint\n",
        "import tensorflow as tf "
      ],
      "metadata": {
        "id": "snS-4ULMk0es"
      },
      "execution_count": 19,
      "outputs": []
    },
    {
      "cell_type": "code",
      "source": [
        "\n",
        "\n",
        "train_datagen = ImageDataGenerator(rescale = 1/255.0,\n",
        "                                   rotation_range=30,\n",
        "                                   zoom_range=0.4,\n",
        "                                   horizontal_flip=True)\n",
        "\n",
        "batch_size=16\n",
        "\n",
        "train_generator = train_datagen.flow_from_directory(train_dir,\n",
        "                                                    batch_size=batch_size,\n",
        "                                                    class_mode='categorical',\n",
        "                                      \n",
        "                                                    target_size=(320, 320))"
      ],
      "metadata": {
        "id": "mOqC9-64lH_K",
        "colab": {
          "base_uri": "https://localhost:8080/"
        },
        "outputId": "587f4765-d7f3-4fbb-aa72-ec953dc1f071"
      },
      "execution_count": 20,
      "outputs": [
        {
          "output_type": "stream",
          "name": "stdout",
          "text": [
            "Found 806 images belonging to 4 classes.\n"
          ]
        }
      ]
    },
    {
      "cell_type": "code",
      "source": [
        "\n",
        "\n",
        "validation_datagen = ImageDataGenerator(rescale = 1/255.0)\n",
        "\n",
        "validation_generator = validation_datagen.flow_from_directory(val_dir,\n",
        "                                                              batch_size=batch_size,\n",
        "                                                              class_mode='categorical',\n",
        "                                                               shuffle=False,\n",
        "                                                              target_size=(320, 320)\n",
        "                                                             )"
      ],
      "metadata": {
        "id": "O2c7Xd0VlUh4",
        "colab": {
          "base_uri": "https://localhost:8080/"
        },
        "outputId": "2648246d-4d43-488a-8d8f-5cb97a768770"
      },
      "execution_count": 21,
      "outputs": [
        {
          "output_type": "stream",
          "name": "stdout",
          "text": [
            "Found 92 images belonging to 4 classes.\n"
          ]
        }
      ]
    },
    {
      "cell_type": "code",
      "source": [
        "callbacks = EarlyStopping(monitor='val_loss', patience=5, verbose=1, mode='auto')\n",
        "# autosave best Model\n",
        "best_model_file = base_dir + 'Dense-Conv2D-module.h5'\n",
        "best_model = ModelCheckpoint(best_model_file, monitor='val_accuracy', verbose = 1, save_best_only = True)"
      ],
      "metadata": {
        "id": "V7uuQA68llUv"
      },
      "execution_count": 22,
      "outputs": []
    },
    {
      "cell_type": "code",
      "source": [
        "'''\n",
        "model = Sequential([\n",
        "    Dense(32, activation='relu', input_shape=(320, 320, 3)),\n",
        "    Dense(64, activation='relu'),\n",
        "    Dense(128, activation='relu'),\n",
        "    #Dense(256, activation='relu'),\n",
        "    #Dense(512, activation='relu'),\n",
        "    Dense(4, activation='softmax')\n",
        "])\n",
        "model.summary()\n",
        "'''\n",
        "model = Sequential([\n",
        "    Conv2D(8, (3, 3), activation='relu', input_shape=(320, 320, 3)),\n",
        "    Conv2D(16, (3, 3), activation='relu'),\n",
        "    Conv2D(32, (3, 3), activation='relu'),\n",
        "    Dropout(0.2),\n",
        "    Flatten(),\n",
        "    Dense(64, activation='relu'),\n",
        "    Dense(128, activation='relu'),\n",
        "    Dense(4, activation='softmax')\n",
        "])\n",
        "model.summary()"
      ],
      "metadata": {
        "id": "fz82fFEWmB_F",
        "colab": {
          "base_uri": "https://localhost:8080/"
        },
        "outputId": "57281e65-23bb-4853-af94-0e0441922ca4"
      },
      "execution_count": 23,
      "outputs": [
        {
          "output_type": "stream",
          "name": "stdout",
          "text": [
            "Model: \"sequential\"\n",
            "_________________________________________________________________\n",
            " Layer (type)                Output Shape              Param #   \n",
            "=================================================================\n",
            " conv2d (Conv2D)             (None, 318, 318, 8)       224       \n",
            "                                                                 \n",
            " conv2d_1 (Conv2D)           (None, 316, 316, 16)      1168      \n",
            "                                                                 \n",
            " conv2d_2 (Conv2D)           (None, 314, 314, 32)      4640      \n",
            "                                                                 \n",
            " dropout (Dropout)           (None, 314, 314, 32)      0         \n",
            "                                                                 \n",
            " flatten (Flatten)           (None, 3155072)           0         \n",
            "                                                                 \n",
            " dense (Dense)               (None, 64)                201924672 \n",
            "                                                                 \n",
            " dense_1 (Dense)             (None, 128)               8320      \n",
            "                                                                 \n",
            " dense_2 (Dense)             (None, 4)                 516       \n",
            "                                                                 \n",
            "=================================================================\n",
            "Total params: 201,939,540\n",
            "Trainable params: 201,939,540\n",
            "Non-trainable params: 0\n",
            "_________________________________________________________________\n"
          ]
        }
      ]
    },
    {
      "cell_type": "code",
      "source": [
        "# model.load_weights( base_dir + 'Dense-Conv2D-module.h5')\n",
        "model.compile(optimizer='Adam', \n",
        "              loss='categorical_crossentropy', \n",
        "              metrics =['accuracy'])\n",
        "\n"
      ],
      "metadata": {
        "id": "zyDE5PVypeak"
      },
      "execution_count": 27,
      "outputs": []
    },
    {
      "cell_type": "code",
      "source": [
        "\n",
        "\n",
        "history = model.fit_generator(train_generator,\n",
        "                              epochs=10,\n",
        "                              verbose=1,\n",
        "                              validation_data=validation_generator,\n",
        "                              callbacks = [best_model]\n",
        "                              )\n",
        "\n"
      ],
      "metadata": {
        "id": "-SiYeCiRpidT",
        "colab": {
          "base_uri": "https://localhost:8080/"
        },
        "outputId": "428c1c49-30b5-45d8-fc81-5ffdb047cd05"
      },
      "execution_count": 28,
      "outputs": [
        {
          "output_type": "stream",
          "name": "stderr",
          "text": [
            "/usr/local/lib/python3.7/dist-packages/ipykernel_launcher.py:7: UserWarning: `Model.fit_generator` is deprecated and will be removed in a future version. Please use `Model.fit`, which supports generators.\n",
            "  import sys\n"
          ]
        },
        {
          "output_type": "stream",
          "name": "stdout",
          "text": [
            "Epoch 1/10\n",
            "51/51 [==============================] - ETA: 0s - loss: 8.8129 - accuracy: 0.6042\n",
            "Epoch 1: val_accuracy improved from -inf to 0.77174, saving model to /content/drive/My Drive/Kaggle/Dense-Conv2D-module.h5\n",
            "51/51 [==============================] - 53s 831ms/step - loss: 8.8129 - accuracy: 0.6042 - val_loss: 0.4979 - val_accuracy: 0.7717\n",
            "Epoch 2/10\n",
            "51/51 [==============================] - ETA: 0s - loss: 0.4810 - accuracy: 0.8288\n",
            "Epoch 2: val_accuracy improved from 0.77174 to 0.84783, saving model to /content/drive/My Drive/Kaggle/Dense-Conv2D-module.h5\n",
            "51/51 [==============================] - 40s 776ms/step - loss: 0.4810 - accuracy: 0.8288 - val_loss: 0.3396 - val_accuracy: 0.8478\n",
            "Epoch 3/10\n",
            "51/51 [==============================] - ETA: 0s - loss: 0.4431 - accuracy: 0.8362\n",
            "Epoch 3: val_accuracy did not improve from 0.84783\n",
            "51/51 [==============================] - 27s 518ms/step - loss: 0.4431 - accuracy: 0.8362 - val_loss: 0.3567 - val_accuracy: 0.8478\n",
            "Epoch 4/10\n",
            "51/51 [==============================] - ETA: 0s - loss: 0.5081 - accuracy: 0.8288\n",
            "Epoch 4: val_accuracy did not improve from 0.84783\n",
            "51/51 [==============================] - 29s 569ms/step - loss: 0.5081 - accuracy: 0.8288 - val_loss: 0.6095 - val_accuracy: 0.8370\n",
            "Epoch 5/10\n",
            "51/51 [==============================] - ETA: 0s - loss: 0.4271 - accuracy: 0.8499\n",
            "Epoch 5: val_accuracy improved from 0.84783 to 0.85870, saving model to /content/drive/My Drive/Kaggle/Dense-Conv2D-module.h5\n",
            "51/51 [==============================] - 43s 844ms/step - loss: 0.4271 - accuracy: 0.8499 - val_loss: 0.3879 - val_accuracy: 0.8587\n",
            "Epoch 6/10\n",
            "51/51 [==============================] - ETA: 0s - loss: 0.3611 - accuracy: 0.8648\n",
            "Epoch 6: val_accuracy improved from 0.85870 to 0.86957, saving model to /content/drive/My Drive/Kaggle/Dense-Conv2D-module.h5\n",
            "51/51 [==============================] - 43s 842ms/step - loss: 0.3611 - accuracy: 0.8648 - val_loss: 0.2896 - val_accuracy: 0.8696\n",
            "Epoch 7/10\n",
            "51/51 [==============================] - ETA: 0s - loss: 0.3823 - accuracy: 0.8561\n",
            "Epoch 7: val_accuracy did not improve from 0.86957\n",
            "51/51 [==============================] - 31s 602ms/step - loss: 0.3823 - accuracy: 0.8561 - val_loss: 0.4107 - val_accuracy: 0.8696\n",
            "Epoch 8/10\n",
            "51/51 [==============================] - ETA: 0s - loss: 0.3650 - accuracy: 0.8524\n",
            "Epoch 8: val_accuracy did not improve from 0.86957\n",
            "51/51 [==============================] - 28s 557ms/step - loss: 0.3650 - accuracy: 0.8524 - val_loss: 0.6470 - val_accuracy: 0.8370\n",
            "Epoch 9/10\n",
            "51/51 [==============================] - ETA: 0s - loss: 0.3655 - accuracy: 0.8536\n",
            "Epoch 9: val_accuracy did not improve from 0.86957\n",
            "51/51 [==============================] - 26s 510ms/step - loss: 0.3655 - accuracy: 0.8536 - val_loss: 0.7163 - val_accuracy: 0.7826\n",
            "Epoch 10/10\n",
            "51/51 [==============================] - ETA: 0s - loss: 0.5155 - accuracy: 0.8151\n",
            "Epoch 10: val_accuracy did not improve from 0.86957\n",
            "51/51 [==============================] - 26s 508ms/step - loss: 0.5155 - accuracy: 0.8151 - val_loss: 0.4660 - val_accuracy: 0.8152\n"
          ]
        }
      ]
    },
    {
      "cell_type": "code",
      "source": [
        "acc=history.history['accuracy']\n",
        "val_acc=history.history['val_accuracy']\n",
        "loss=history.history['loss']\n",
        "val_loss=history.history['val_loss']\n",
        "\n",
        "epochs=range(len(acc))\n",
        "\n",
        "fig = plt.figure(figsize=(14,7))\n",
        "plt.plot(epochs, acc, 'r', label=\"Training Accuracy\")\n",
        "plt.plot(epochs, val_acc, 'b', label=\"Validation Accuracy\")\n",
        "plt.xlabel('Epoch')\n",
        "plt.ylabel('Accuracy')\n",
        "plt.title('Training and validation accuracy')\n",
        "plt.legend(loc='lower right')\n",
        "plt.show()"
      ],
      "metadata": {
        "id": "JGASFNdG0vKR",
        "colab": {
          "base_uri": "https://localhost:8080/",
          "height": 458
        },
        "outputId": "45b173f7-5d02-4124-b38d-d5770b486067"
      },
      "execution_count": 29,
      "outputs": [
        {
          "output_type": "display_data",
          "data": {
            "text/plain": [
              "<Figure size 1008x504 with 1 Axes>"
            ],
            "image/png": "[encoded data removed]"
          },
          "metadata": {
            "needs_background": "light"
          }
        }
      ]
    },
    {
      "cell_type": "code",
      "source": [
        "fig2 = plt.figure(figsize=(14,7))\n",
        "plt.plot(epochs, loss, 'r', label=\"Training Loss\")\n",
        "plt.plot(epochs, val_loss, 'b', label=\"Validation Loss\")\n",
        "plt.legend(loc='upper right')\n",
        "plt.xlabel('Epoch')\n",
        "plt.ylabel('Loss')\n",
        "plt.title('Training and validation loss')"
      ],
      "metadata": {
        "id": "WCENHWiu01jH",
        "colab": {
          "base_uri": "https://localhost:8080/",
          "height": 475
        },
        "outputId": "ccda9e9a-e3ac-44b2-e59f-330dca3ce9c8"
      },
      "execution_count": 30,
      "outputs": [
        {
          "output_type": "execute_result",
          "data": {
            "text/plain": [
              "Text(0.5, 1.0, 'Training and validation loss')"
            ]
          },
          "metadata": {},
          "execution_count": 30
        },
        {
          "output_type": "display_data",
          "data": {
            "text/plain": [
              "<Figure size 1008x504 with 1 Axes>"
            ],
            "image/png": "[encoded data removed]"
          },
          "metadata": {
            "needs_background": "light"
          }
        }
      ]
    },
    {
      "cell_type": "code",
      "source": [
        "from sklearn.metrics import classification_report\n",
        "from sklearn.metrics import confusion_matrix\n",
        "\n",
        "\n",
        "\n",
        "loss, acc = model.evaluate_generator(validation_generator)\n",
        "print(\"Accuracy:\",acc,\"Loss:\",loss)\n",
        "probabilities = model.predict_generator(generator=validation_generator)\n",
        "y_t = validation_generator.classes\n",
        "print(y_t)\n",
        "y_p=np.argmax(probabilities, axis=1)\n",
        "\n",
        "print(y_p)\n",
        "print('\\n\\nValidate Predict Report===============\\n')\n",
        "print(classification_report(y_p,y_t))\n",
        "print('\\n\\nValidate Cunfusion Matrix===============\\n')\n",
        "matrix_confusion=(confusion_matrix(y_p,y_t))\n",
        "sns.heatmap(matrix_confusion, square=True, annot=True, cmap='Blues', fmt='d', cbar=False)"
      ],
      "metadata": {
        "id": "UheK9ka88fKj",
        "colab": {
          "base_uri": "https://localhost:8080/",
          "height": 803
        },
        "outputId": "5e8a10aa-2592-466a-eb54-54b7ce70ea92"
      },
      "execution_count": 31,
      "outputs": [
        {
          "output_type": "stream",
          "name": "stderr",
          "text": [
            "/usr/local/lib/python3.7/dist-packages/ipykernel_launcher.py:6: UserWarning: `Model.evaluate_generator` is deprecated and will be removed in a future version. Please use `Model.evaluate`, which supports generators.\n",
            "  \n"
          ]
        },
        {
          "output_type": "stream",
          "name": "stdout",
          "text": [
            "Accuracy: 0.8152173757553101 Loss: 0.4660235643386841\n"
          ]
        },
        {
          "output_type": "stream",
          "name": "stderr",
          "text": [
            "/usr/local/lib/python3.7/dist-packages/ipykernel_launcher.py:8: UserWarning: `Model.predict_generator` is deprecated and will be removed in a future version. Please use `Model.predict`, which supports generators.\n",
            "  \n"
          ]
        },
        {
          "output_type": "stream",
          "name": "stdout",
          "text": [
            "[0 0 0 0 0 0 0 0 0 0 0 0 0 0 0 0 0 0 0 0 0 0 0 0 1 1 1 1 1 1 1 1 1 1 1 1 1\n",
            " 1 1 1 1 1 2 2 2 2 2 2 2 2 2 2 2 2 2 2 2 2 2 2 2 2 2 3 3 3 3 3 3 3 3 3 3 3\n",
            " 3 3 3 3 3 3 3 3 3 3 3 3 3 3 3 3 3 3]\n",
            "[2 2 2 2 2 0 0 2 0 0 2 0 0 0 2 0 0 0 0 0 0 0 2 0 1 1 1 0 1 1 0 1 1 1 1 1 0\n",
            " 1 2 1 1 0 2 2 2 2 2 2 2 2 2 2 2 2 2 2 2 2 2 2 3 2 2 3 3 3 3 3 3 3 3 3 3 3\n",
            " 3 1 3 3 3 3 3 3 3 3 3 3 3 3 3 2 3 3]\n",
            "\n",
            "\n",
            "Validate Predict Report===============\n",
            "\n",
            "              precision    recall  f1-score   support\n",
            "\n",
            "           0       0.62      0.79      0.70        19\n",
            "           1       0.72      0.93      0.81        14\n",
            "           2       0.95      0.65      0.77        31\n",
            "           3       0.93      0.96      0.95        28\n",
            "\n",
            "    accuracy                           0.82        92\n",
            "   macro avg       0.81      0.83      0.81        92\n",
            "weighted avg       0.84      0.82      0.82        92\n",
            "\n",
            "\n",
            "\n",
            "Validate Cunfusion Matrix===============\n",
            "\n"
          ]
        },
        {
          "output_type": "execute_result",
          "data": {
            "text/plain": [
              "<matplotlib.axes._subplots.AxesSubplot at 0x7fe2020b6f90>"
            ]
          },
          "metadata": {},
          "execution_count": 31
        },
        {
          "output_type": "display_data",
          "data": {
            "text/plain": [
              "<Figure size 432x288 with 1 Axes>"
            ],
            "image/png": "[encoded data removed]"
          },
          "metadata": {
            "needs_background": "light"
          }
        }
      ]
    },
    {
      "cell_type": "markdown",
      "source": [
        ""
      ],
      "metadata": {
        "id": "6QnttKFHaBdi"
      }
    },
    {
      "cell_type": "code",
      "source": [
        "test_datagen = ImageDataGenerator(rescale = 1/255.0)\n",
        "\n",
        "test_generator = test_datagen.flow_from_directory(test_dir,\n",
        "                                                              batch_size=batch_size,\n",
        "                                                              class_mode='categorical',\n",
        "                                                               shuffle=False,\n",
        "                                                              target_size=(320, 320)\n",
        "                                                             )\n",
        "\n",
        "loss, acc = model.evaluate_generator(test_generator)\n",
        "print(\"Accuracy:\",acc,\"Loss:\",loss)\n",
        "probabilities = model.predict_generator(generator=test_generator)\n",
        "y_t = test_generator.classes\n",
        "print(y_t)\n",
        "y_p=np.argmax(probabilities, axis=1)\n",
        "\n",
        "print(y_p)\n",
        "print('\\n\\nValidate Predict Report===============\\n')\n",
        "print(classification_report(y_p,y_t))\n",
        "print('\\n\\nValidate Cunfusion Matrix===============\\n')\n",
        "matrix_confusion=(confusion_matrix(y_p,y_t))\n",
        "sns.heatmap(matrix_confusion, square=True, annot=True, cmap='Blues', fmt='d', cbar=False)"
      ],
      "metadata": {
        "id": "lSs_Lcda-m3e",
        "colab": {
          "base_uri": "https://localhost:8080/",
          "height": 979
        },
        "outputId": "18f2f977-ca9b-411e-9f78-d3d093b5d0d9"
      },
      "execution_count": 32,
      "outputs": [
        {
          "output_type": "stream",
          "name": "stdout",
          "text": [
            "Found 226 images belonging to 4 classes.\n"
          ]
        },
        {
          "output_type": "stream",
          "name": "stderr",
          "text": [
            "/usr/local/lib/python3.7/dist-packages/ipykernel_launcher.py:10: UserWarning: `Model.evaluate_generator` is deprecated and will be removed in a future version. Please use `Model.evaluate`, which supports generators.\n",
            "  # Remove the CWD from sys.path while we load stuff.\n"
          ]
        },
        {
          "output_type": "stream",
          "name": "stdout",
          "text": [
            "Accuracy: 0.8053097128868103 Loss: 0.4976223409175873\n"
          ]
        },
        {
          "output_type": "stream",
          "name": "stderr",
          "text": [
            "/usr/local/lib/python3.7/dist-packages/ipykernel_launcher.py:12: UserWarning: `Model.predict_generator` is deprecated and will be removed in a future version. Please use `Model.predict`, which supports generators.\n",
            "  if sys.path[0] == '':\n"
          ]
        },
        {
          "output_type": "stream",
          "name": "stdout",
          "text": [
            "[0 0 0 0 0 0 0 0 0 0 0 0 0 0 0 0 0 0 0 0 0 0 0 0 0 0 0 0 0 0 0 0 0 0 0 0 0\n",
            " 0 0 0 0 0 0 0 0 0 0 0 0 0 0 0 0 0 0 0 0 0 0 0 1 1 1 1 1 1 1 1 1 1 1 1 1 1\n",
            " 1 1 1 1 1 1 1 1 1 1 1 1 1 1 1 1 1 1 1 1 1 1 1 1 1 1 1 1 1 2 2 2 2 2 2 2 2\n",
            " 2 2 2 2 2 2 2 2 2 2 2 2 2 2 2 2 2 2 2 2 2 2 2 2 2 2 2 2 2 2 2 2 2 2 2 2 2\n",
            " 2 2 2 2 2 2 3 3 3 3 3 3 3 3 3 3 3 3 3 3 3 3 3 3 3 3 3 3 3 3 3 3 3 3 3 3 3\n",
            " 3 3 3 3 3 3 3 3 3 3 3 3 3 3 3 3 3 3 3 3 3 3 3 3 3 3 3 3 3 3 3 3 3 3 3 3 3\n",
            " 3 3 3 3]\n",
            "[2 2 0 0 1 0 0 0 2 0 0 0 3 2 2 0 1 0 0 0 0 0 1 0 0 0 0 2 0 0 2 0 2 0 0 0 0\n",
            " 0 0 1 0 0 1 1 0 0 0 0 0 0 2 0 1 0 0 0 1 0 3 0 2 1 1 1 0 1 1 1 1 1 1 0 0 1\n",
            " 0 1 1 0 2 1 0 1 1 1 1 1 2 1 0 1 1 1 1 1 2 1 2 2 0 0 0 1 1 2 2 2 2 2 2 2 2\n",
            " 0 2 1 2 2 2 2 2 2 2 2 2 2 2 2 2 3 2 2 2 2 2 2 2 2 2 2 3 2 2 2 2 3 2 2 2 3\n",
            " 0 2 2 2 3 2 3 3 3 3 3 3 3 3 3 3 3 3 3 3 3 3 3 3 3 3 3 3 3 3 3 3 3 3 3 3 3\n",
            " 3 3 3 3 3 3 3 3 3 3 3 3 3 3 3 3 3 3 3 3 3 3 3 3 3 3 3 2 3 3 3 3 3 3 3 3 3\n",
            " 3 3 3 3]\n",
            "\n",
            "\n",
            "Validate Predict Report===============\n",
            "\n",
            "              precision    recall  f1-score   support\n",
            "\n",
            "           0       0.68      0.77      0.73        53\n",
            "           1       0.63      0.75      0.68        36\n",
            "           2       0.84      0.73      0.78        59\n",
            "           3       0.99      0.91      0.95        78\n",
            "\n",
            "    accuracy                           0.81       226\n",
            "   macro avg       0.79      0.79      0.78       226\n",
            "weighted avg       0.82      0.81      0.81       226\n",
            "\n",
            "\n",
            "\n",
            "Validate Cunfusion Matrix===============\n",
            "\n"
          ]
        },
        {
          "output_type": "execute_result",
          "data": {
            "text/plain": [
              "<matplotlib.axes._subplots.AxesSubplot at 0x7fe1007ef350>"
            ]
          },
          "metadata": {},
          "execution_count": 32
        },
        {
          "output_type": "display_data",
          "data": {
            "text/plain": [
              "<Figure size 432x288 with 1 Axes>"
            ],
            "image/png": "[encoded data removed]"
          },
          "metadata": {
            "needs_background": "light"
          }
        }
      ]
    }
  ]
}