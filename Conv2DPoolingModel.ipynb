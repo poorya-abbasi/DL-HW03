{
  "cells": [
    {
      "cell_type": "markdown",
      "metadata": {
        "id": "view-in-github",
        "colab_type": "text"
      },
      "source": [
        "<a href=\"https://colab.research.google.com/github/poorya-abbasi/DL-HW03/blob/main/Conv2DPoolingModel.ipynb\" target=\"_parent\"><img src=\"https://colab.research.google.com/assets/colab-badge.svg\" alt=\"Open In Colab\"/></a>"
      ]
    },
    {
      "cell_type": "code",
      "execution_count": 1,
      "metadata": {
        "colab": {
          "base_uri": "https://localhost:8080/"
        },
        "id": "afno_iYjVtD7",
        "outputId": "60412357-d8ae-4eb7-bab2-312486513e72"
      },
      "outputs": [
        {
          "output_type": "stream",
          "name": "stdout",
          "text": [
            "Mounted at /content/drive\n"
          ]
        }
      ],
      "source": [
        "from google.colab import drive \n",
        "drive.mount('/content/drive')"
      ]
    },
    {
      "cell_type": "code",
      "execution_count": 2,
      "metadata": {
        "id": "X45uuhumVxat"
      },
      "outputs": [],
      "source": [
        "import os\n",
        "os.environ['KAGGLE_CONFIG_DIR'] = '/content/drive/MyDrive/Kaggle'"
      ]
    },
    {
      "cell_type": "code",
      "execution_count": 3,
      "metadata": {
        "colab": {
          "base_uri": "https://localhost:8080/"
        },
        "id": "6nHMfI_rVynz",
        "outputId": "94c45ecd-9ee6-4240-e168-79a994368e26"
      },
      "outputs": [
        {
          "output_type": "stream",
          "name": "stdout",
          "text": [
            "/content/drive/MyDrive/Kaggle\n"
          ]
        }
      ],
      "source": [
        "%cd /content/drive/MyDrive/Kaggle/"
      ]
    },
    {
      "cell_type": "code",
      "execution_count": 4,
      "metadata": {
        "colab": {
          "base_uri": "https://localhost:8080/"
        },
        "id": "RAl21YI3VyuD",
        "outputId": "c6afece1-81d2-4858-c31d-8714b78fb9c5"
      },
      "outputs": [
        {
          "output_type": "stream",
          "name": "stdout",
          "text": [
            "multiclass-weather-dataset.zip: Skipping, found more recently modified local copy (use --force to force download)\n"
          ]
        }
      ],
      "source": [
        "!kaggle datasets download -d pratik2901/multiclass-weather-dataset"
      ]
    },
    {
      "cell_type": "code",
      "execution_count": 5,
      "metadata": {
        "colab": {
          "base_uri": "https://localhost:8080/"
        },
        "id": "yM0WepR0V2CS",
        "outputId": "079a468e-8b83-434d-cd2d-830e84d9f8e2"
      },
      "outputs": [
        {
          "output_type": "stream",
          "name": "stdout",
          "text": [
            " best-val-acc-model.h5\t\t\t  dense-model.h5\n",
            " data\t\t\t\t\t  kaggle.json\n",
            " Dense-Conv2D-module.h5\t\t\t 'Multi-class Weather Dataset'\n",
            " Dense-Conv2D-Pooling-Dropout-K-fold.h5   multiclass-weather-dataset.zip\n"
          ]
        }
      ],
      "source": [
        "!ls"
      ]
    },
    {
      "cell_type": "code",
      "execution_count": 6,
      "metadata": {
        "colab": {
          "base_uri": "https://localhost:8080/"
        },
        "id": "SXPBKwQ3V3rU",
        "outputId": "2786e11f-5b61-48f8-a6d7-1f4a9b696a19"
      },
      "outputs": [
        {
          "output_type": "stream",
          "name": "stdout",
          "text": [
            "Archive:  multiclass-weather-dataset.zip\n"
          ]
        }
      ],
      "source": [
        "base_dir = '/content/drive/My Drive/Kaggle/'\n",
        "!unzip -u \"multiclass-weather-dataset.zip\" -d '/content/drive/My Drive/Kaggle/'\n",
        "dataset_dir_name = 'Multi-class Weather Dataset'\n",
        "dataset_dir = base_dir + dataset_dir_name"
      ]
    },
    {
      "cell_type": "code",
      "execution_count": 7,
      "metadata": {
        "id": "IzCixrPdV5VV"
      },
      "outputs": [],
      "source": [
        "max_height = -1\n",
        "max_width = -1"
      ]
    },
    {
      "cell_type": "code",
      "execution_count": 8,
      "metadata": {
        "id": "r_oPFkFWWDNw"
      },
      "outputs": [],
      "source": [
        "import cv2\n",
        "import imutils\n",
        "import numpy as np\n"
      ]
    },
    {
      "cell_type": "code",
      "execution_count": 9,
      "metadata": {
        "colab": {
          "base_uri": "https://localhost:8080/",
          "height": 70
        },
        "id": "s6fClLX8WH-D",
        "outputId": "520c905d-c821-4c1a-ed9a-fe6dcfe46cf0"
      },
      "outputs": [
        {
          "output_type": "execute_result",
          "data": {
            "text/plain": [
              "\"images = []\\nlabels = []\\nconvert = {'Cloudy':0, 'Rain':1, 'Shine':2, 'Sunrise':3}\\n\\npath = dataset_dir\\nprint(os.listdir(path))\\nfor filename in os.listdir(path):\\n  for filename1 in os.listdir(path+'/'+filename):\\n      img = cv2.imread(path+'/'+filename+'/'+filename1)\\n      \\n      if img is not None:\\n        if(img.shape[1]>256):\\n          img = imutils.resize(img, width=256)\\n        images.append(img)\\n        #print(img.shape)\\n        labels.append(convert[filename])\\n        max_height = max(max_height, img.shape[0])\\n        max_width = max(max_width, img.shape[1])\""
            ],
            "application/vnd.google.colaboratory.intrinsic+json": {
              "type": "string"
            }
          },
          "metadata": {},
          "execution_count": 9
        }
      ],
      "source": [
        "'''images = []\n",
        "labels = []\n",
        "convert = {'Cloudy':0, 'Rain':1, 'Shine':2, 'Sunrise':3}\n",
        "\n",
        "path = dataset_dir\n",
        "print(os.listdir(path))\n",
        "for filename in os.listdir(path):\n",
        "  for filename1 in os.listdir(path+'/'+filename):\n",
        "      img = cv2.imread(path+'/'+filename+'/'+filename1)\n",
        "      \n",
        "      if img is not None:\n",
        "        if(img.shape[1]>256):\n",
        "          img = imutils.resize(img, width=256)\n",
        "        images.append(img)\n",
        "        #print(img.shape)\n",
        "        labels.append(convert[filename])\n",
        "        max_height = max(max_height, img.shape[0])\n",
        "        max_width = max(max_width, img.shape[1])'''"
      ]
    },
    {
      "cell_type": "code",
      "execution_count": 10,
      "metadata": {
        "colab": {
          "base_uri": "https://localhost:8080/"
        },
        "id": "XUU_3ZdTWNHs",
        "outputId": "5811e756-cca8-4d45-eb2b-9f67305b81f5"
      },
      "outputs": [
        {
          "output_type": "stream",
          "name": "stdout",
          "text": [
            "-1\n",
            "-1\n"
          ]
        }
      ],
      "source": [
        "print(max_height)\n",
        "print(max_width)\n"
      ]
    },
    {
      "cell_type": "code",
      "execution_count": 11,
      "metadata": {
        "colab": {
          "base_uri": "https://localhost:8080/",
          "height": 70
        },
        "id": "Za0xxIPFWOie",
        "outputId": "10b5a8a2-c0df-4283-8c6c-e8bb27b3fc37"
      },
      "outputs": [
        {
          "output_type": "execute_result",
          "data": {
            "text/plain": [
              "\"from matplotlib import pyplot\\n\\nimg = images[413]\\n#pyplot.imshow(img, cmap=pyplot.get_cmap('gray'))\\npyplot.imshow(img)\\n# show the figure\\npyplot.show()\\nprint(img.shape)\\n\\nimages=np.array(images)\\nll = np.zeros((len(labels),10))\\nfor i in range(len(labels)):\\n  ll[i][labels[i]]=1\\nfrom sklearn.model_selection import train_test_split\\nX_train, X_test, y_train, y_test = train_test_split(images, ll, test_size=0.15, random_state=42)\""
            ],
            "application/vnd.google.colaboratory.intrinsic+json": {
              "type": "string"
            }
          },
          "metadata": {},
          "execution_count": 11
        }
      ],
      "source": [
        "'''from matplotlib import pyplot\n",
        "\n",
        "img = images[413]\n",
        "#pyplot.imshow(img, cmap=pyplot.get_cmap('gray'))\n",
        "pyplot.imshow(img)\n",
        "# show the figure\n",
        "pyplot.show()\n",
        "print(img.shape)\n",
        "\n",
        "images=np.array(images)\n",
        "ll = np.zeros((len(labels),10))\n",
        "for i in range(len(labels)):\n",
        "  ll[i][labels[i]]=1\n",
        "from sklearn.model_selection import train_test_split\n",
        "X_train, X_test, y_train, y_test = train_test_split(images, ll, test_size=0.15, random_state=42)'''\n"
      ]
    },
    {
      "cell_type": "code",
      "execution_count": 12,
      "metadata": {
        "id": "g-NfY_j3ZQXK"
      },
      "outputs": [],
      "source": [
        "\n",
        "train_dir = base_dir+\"/data/train/\"\n",
        "\n",
        "val_dir = base_dir + '/data/validate/'\n",
        "tmp_dir = base_dir + '/data/temp/'\n",
        "test_dir = base_dir + '/data/test/'\n",
        "\n",
        "CLOUDY_SRC = dataset_dir + '/Cloudy/'\n",
        "CLOUDY_TMP = tmp_dir + 'cloudy/'\n",
        "CLOUDY_T = train_dir + 'cloudy/'\n",
        "CLOUDY_V = val_dir + 'cloudy/'\n",
        "CLOUDY_TEST = test_dir + 'cloudy/'\n",
        "\n",
        "RAINY_SRC = dataset_dir + '/Rain/'\n",
        "RAINY_TMP = tmp_dir + '/rain/'\n",
        "RAINY_T = train_dir + '/rain/'\n",
        "RAINY_V = val_dir + 'rain/'\n",
        "RAINY_TEST = test_dir + 'rain/'\n",
        "\n",
        "SHINE_SRC = dataset_dir + '/Shine/'\n",
        "SHINE_TMP = tmp_dir + 'shine/'\n",
        "SHINE_T = train_dir + 'shine/'\n",
        "SHINE_V = val_dir + 'shine/'\n",
        "SHINE_TEST = test_dir + 'shine/'\n",
        "\n",
        "SUNRISE_SRC = dataset_dir + '/Sunrise/'\n",
        "SUNRISE_TMP = tmp_dir + 'sunrise/'\n",
        "SUNRISE_T = train_dir + 'sunrise/'\n",
        "SUNRISE_V = val_dir + 'sunrise/'\n",
        "SUNRISE_TEST = test_dir + 'sunrise/'\n",
        "\n"
      ]
    },
    {
      "cell_type": "code",
      "execution_count": 13,
      "metadata": {
        "id": "48eVT4CreYLJ"
      },
      "outputs": [],
      "source": [
        "import shutil\n",
        "\n",
        "shutil.rmtree(base_dir+'data')\n",
        "os.mkdir(base_dir+'data')\n",
        "os.mkdir(train_dir)\n",
        "os.mkdir(val_dir)\n",
        "os.mkdir(test_dir)\n",
        "os.mkdir(tmp_dir)\n",
        "#sub folders for train\n",
        "\n",
        "os.mkdir(CLOUDY_T)\n",
        "os.mkdir(RAINY_T)\n",
        "os.mkdir(SHINE_T)\n",
        "os.mkdir(SUNRISE_T)\n",
        "\n",
        "#sub folders for validate\n",
        "os.mkdir(CLOUDY_V)\n",
        "os.mkdir(RAINY_V)\n",
        "os.mkdir(SHINE_V)\n",
        "os.mkdir(SUNRISE_V)\n",
        "\n",
        "#sub folders for validate\n",
        "os.mkdir(CLOUDY_TMP)\n",
        "os.mkdir(RAINY_TMP)\n",
        "os.mkdir(SHINE_TMP)\n",
        "os.mkdir(SUNRISE_TMP)\n",
        "\n",
        "#sub folders for validate\n",
        "os.mkdir(CLOUDY_TEST)\n",
        "os.mkdir(RAINY_TEST)\n",
        "os.mkdir(SHINE_TEST)\n",
        "os.mkdir(SUNRISE_TEST)\n",
        "\n"
      ]
    },
    {
      "cell_type": "markdown",
      "metadata": {
        "id": "QfyFyqrMfGPK"
      },
      "source": [
        "# Spliting Data to validatde and Train"
      ]
    },
    {
      "cell_type": "code",
      "execution_count": 14,
      "metadata": {
        "id": "eQwXYSKNfFoT",
        "colab": {
          "base_uri": "https://localhost:8080/"
        },
        "outputId": "f7bad6a5-d7a2-4071-ee31-1f3aab2f2fe6"
      },
      "outputs": [
        {
          "output_type": "stream",
          "name": "stdout",
          "text": [
            "sunrise88.jpg is zero length, so ignoring.\n"
          ]
        }
      ],
      "source": [
        "import os\n",
        "import random\n",
        "from shutil import copyfile\n",
        "\n",
        "def split_data(SOURCE, TRAINING, VALIDATION, SPLIT_SIZE):\n",
        "    files = []\n",
        "    for filename in os.listdir(SOURCE):\n",
        "        file = SOURCE + filename\n",
        "        if os.path.getsize(file) > 0:\n",
        "            files.append(filename)\n",
        "        else:\n",
        "            print(filename + \" is zero length, so ignoring.\")\n",
        "\n",
        "    training_length = int(len(files) * SPLIT_SIZE)\n",
        "    valid_length = int(len(files) - training_length)\n",
        "    shuffled_set = random.sample(files, len(files))\n",
        "    training_set = shuffled_set[0:training_length]\n",
        "    valid_set = shuffled_set[training_length:]\n",
        "\n",
        "    for filename in training_set:\n",
        "        this_file = SOURCE + filename\n",
        "        destination = TRAINING + filename\n",
        "        copyfile(this_file, destination)\n",
        "\n",
        "    for filename in valid_set:\n",
        "        this_file = SOURCE + filename\n",
        "        destination = VALIDATION + filename\n",
        "        copyfile(this_file, destination)\n",
        "\n",
        "\n",
        "\n",
        "train_split_size = .8\n",
        "validate_split_size =.85\n",
        "\n",
        "split_data(CLOUDY_SRC, CLOUDY_TMP, CLOUDY_TEST, train_split_size)\n",
        "split_data(RAINY_SRC, RAINY_TMP, RAINY_TEST, train_split_size)\n",
        "split_data(SHINE_SRC, SHINE_TMP, SHINE_TEST, train_split_size)\n",
        "split_data(SUNRISE_SRC, SUNRISE_TMP, SUNRISE_TEST, train_split_size)\n",
        "\n",
        "split_data(CLOUDY_TMP, CLOUDY_T, CLOUDY_V, validate_split_size)\n",
        "split_data(RAINY_TMP, RAINY_T, RAINY_V, validate_split_size)\n",
        "split_data(SHINE_TMP, SHINE_T, SHINE_V, validate_split_size)\n",
        "split_data(SUNRISE_TMP, SUNRISE_T, SUNRISE_V, validate_split_size)\n"
      ]
    },
    {
      "cell_type": "code",
      "execution_count": 15,
      "metadata": {
        "colab": {
          "base_uri": "https://localhost:8080/",
          "height": 459
        },
        "id": "HxvYAw9ki8CQ",
        "outputId": "7e1127ec-e450-4d32-fa65-5a9befd8fbcf"
      },
      "outputs": [
        {
          "output_type": "display_data",
          "data": {
            "text/plain": [
              "<Figure size 648x432 with 1 Axes>"
            ],
            "image/png": "[encoded data removed]"
          },
          "metadata": {
            "needs_background": "light"
          }
        },
        {
          "output_type": "stream",
          "name": "stdout",
          "text": [
            "Training cloudy images are: 204\n",
            "Training rain images are: 146\n",
            "Training shine images are: 171\n",
            "Training sunrise images are: 241\n"
          ]
        }
      ],
      "source": [
        "import matplotlib.pyplot as plt\n",
        "import seaborn as sns\n",
        "from matplotlib.image import imread\n",
        "import pathlib\n",
        "\n",
        "image_folder = ['cloudy', 'rain', 'shine', 'sunrise']\n",
        "nimgs = {}\n",
        "for i in image_folder:\n",
        "    nimages = len(os.listdir(train_dir+i+'/'))\n",
        "    nimgs[i]=nimages\n",
        "plt.figure(figsize=(9, 6))\n",
        "plt.bar(range(len(nimgs)), list(nimgs.values()), align='center')\n",
        "plt.xticks(range(len(nimgs)), list(nimgs.keys()))\n",
        "plt.title('Distribution of different classes in Training Dataset')\n",
        "plt.show()\n",
        "for i in ['cloudy','rain', 'shine', 'sunrise']:\n",
        "    print('Training {} images are: '.format(i)+str(len(os.listdir(train_dir+i+'/'))))"
      ]
    },
    {
      "cell_type": "code",
      "execution_count": 16,
      "metadata": {
        "colab": {
          "base_uri": "https://localhost:8080/",
          "height": 459
        },
        "id": "FdjWsRsIkf1O",
        "outputId": "d49cbdfe-7c7f-4287-e4e6-b2a509b97c92"
      },
      "outputs": [
        {
          "output_type": "display_data",
          "data": {
            "text/plain": [
              "<Figure size 648x432 with 1 Axes>"
            ],
            "image/png": "[encoded data removed]"
          },
          "metadata": {
            "needs_background": "light"
          }
        },
        {
          "output_type": "stream",
          "name": "stdout",
          "text": [
            "Valid cloudy images are: 36\n",
            "Valid rain images are: 26\n",
            "Valid shine images are: 31\n",
            "Valid sunrise images are: 43\n"
          ]
        }
      ],
      "source": [
        "image_folder = ['cloudy', 'rain', 'shine', 'sunrise']\n",
        "nimgs = {}\n",
        "for i in image_folder:\n",
        "    nimages = len(os.listdir(val_dir+i+'/'))\n",
        "    nimgs[i]=nimages\n",
        "plt.figure(figsize=(9, 6))\n",
        "plt.bar(range(len(nimgs)), list(nimgs.values()), align='center')\n",
        "plt.xticks(range(len(nimgs)), list(nimgs.keys()))\n",
        "plt.title('Distribution of different classes in Validation Dataset')\n",
        "plt.show()\n",
        "for i in ['cloudy', 'rain', 'shine', 'sunrise']:\n",
        "    print('Valid {} images are: '.format(i)+str(len(os.listdir(val_dir+i+'/'))))"
      ]
    },
    {
      "cell_type": "code",
      "execution_count": 17,
      "metadata": {
        "id": "snS-4ULMk0es"
      },
      "outputs": [],
      "source": [
        "from tensorflow.keras.optimizers import Adam\n",
        "from tensorflow.keras.preprocessing.image import ImageDataGenerator\n",
        "from tensorflow.keras.layers import Conv2D, MaxPooling2D, Flatten, Dense, Dropout, BatchNormalization\n",
        "from tensorflow.keras.models import Sequential\n",
        "from tensorflow.keras.callbacks import EarlyStopping, ModelCheckpoint"
      ]
    },
    {
      "cell_type": "code",
      "execution_count": 18,
      "metadata": {
        "colab": {
          "base_uri": "https://localhost:8080/"
        },
        "id": "mOqC9-64lH_K",
        "outputId": "089f8132-54ab-4b94-aad3-b4c7fd2ff1cb"
      },
      "outputs": [
        {
          "output_type": "stream",
          "name": "stdout",
          "text": [
            "Found 762 images belonging to 4 classes.\n"
          ]
        }
      ],
      "source": [
        "\n",
        "\n",
        "train_datagen = ImageDataGenerator(rescale = 1/255.0,\n",
        "                                   rotation_range=30,\n",
        "                                   zoom_range=0.4,\n",
        "                                  \n",
        "                                   horizontal_flip=True)\n",
        "\n",
        "batch_size=16\n",
        "\n",
        "train_generator = train_datagen.flow_from_directory(train_dir,\n",
        "                                                    batch_size=batch_size,\n",
        "                                                    class_mode='categorical',\n",
        "                                                    shuffle=True,\n",
        "                                                    target_size=(320, 320))"
      ]
    },
    {
      "cell_type": "code",
      "execution_count": 19,
      "metadata": {
        "colab": {
          "base_uri": "https://localhost:8080/"
        },
        "id": "O2c7Xd0VlUh4",
        "outputId": "4b783668-d46b-447c-89b5-3fac18a9302f"
      },
      "outputs": [
        {
          "output_type": "stream",
          "name": "stdout",
          "text": [
            "Found 136 images belonging to 4 classes.\n"
          ]
        }
      ],
      "source": [
        "\n",
        "\n",
        "validation_datagen = ImageDataGenerator(rescale = 1/255.0)\n",
        "\n",
        "validation_generator = validation_datagen.flow_from_directory(val_dir,\n",
        "                                                              batch_size=batch_size,\n",
        "                                                              class_mode='categorical',\n",
        "                                                               shuffle=False,\n",
        "                                                              target_size=(320, 320)\n",
        "                                                             )"
      ]
    },
    {
      "cell_type": "code",
      "execution_count": 20,
      "metadata": {
        "id": "V7uuQA68llUv"
      },
      "outputs": [],
      "source": [
        "callbacks = EarlyStopping(monitor='val_loss', patience=5, verbose=1, mode='auto')\n",
        "# autosave best Model\n",
        "best_model_file = base_dir + 'Dense-Conv2D-Pooling.h5'\n",
        "best_model = ModelCheckpoint(best_model_file, monitor='val_accuracy', verbose = 1, save_best_only = True)"
      ]
    },
    {
      "cell_type": "code",
      "execution_count": 21,
      "metadata": {
        "colab": {
          "base_uri": "https://localhost:8080/"
        },
        "id": "fz82fFEWmB_F",
        "outputId": "bf43c535-54ac-4e52-b49b-1bede3919218"
      },
      "outputs": [
        {
          "output_type": "stream",
          "name": "stdout",
          "text": [
            "Model: \"sequential\"\n",
            "_________________________________________________________________\n",
            " Layer (type)                Output Shape              Param #   \n",
            "=================================================================\n",
            " conv2d (Conv2D)             (None, 318, 318, 8)       224       \n",
            "                                                                 \n",
            " max_pooling2d (MaxPooling2D  (None, 159, 159, 8)      0         \n",
            " )                                                               \n",
            "                                                                 \n",
            " conv2d_1 (Conv2D)           (None, 157, 157, 16)      1168      \n",
            "                                                                 \n",
            " max_pooling2d_1 (MaxPooling  (None, 78, 78, 16)       0         \n",
            " 2D)                                                             \n",
            "                                                                 \n",
            " conv2d_2 (Conv2D)           (None, 76, 76, 16)        2320      \n",
            "                                                                 \n",
            " max_pooling2d_2 (MaxPooling  (None, 38, 38, 16)       0         \n",
            " 2D)                                                             \n",
            "                                                                 \n",
            " conv2d_3 (Conv2D)           (None, 36, 36, 32)        4640      \n",
            "                                                                 \n",
            " max_pooling2d_3 (MaxPooling  (None, 18, 18, 32)       0         \n",
            " 2D)                                                             \n",
            "                                                                 \n",
            " conv2d_4 (Conv2D)           (None, 16, 16, 64)        18496     \n",
            "                                                                 \n",
            " max_pooling2d_4 (MaxPooling  (None, 8, 8, 64)         0         \n",
            " 2D)                                                             \n",
            "                                                                 \n",
            " flatten (Flatten)           (None, 4096)              0         \n",
            "                                                                 \n",
            " dense (Dense)               (None, 128)               524416    \n",
            "                                                                 \n",
            " dense_1 (Dense)             (None, 128)               16512     \n",
            "                                                                 \n",
            " dense_2 (Dense)             (None, 4)                 516       \n",
            "                                                                 \n",
            "=================================================================\n",
            "Total params: 568,292\n",
            "Trainable params: 568,292\n",
            "Non-trainable params: 0\n",
            "_________________________________________________________________\n"
          ]
        }
      ],
      "source": [
        "'''model = Sequential([\n",
        "     Conv2D(8, (3, 3), activation='relu', input_shape=(320, 320, 3)),\n",
        "    MaxPooling2D(2, 2),\n",
        "    Conv2D(16, (3, 3), activation='relu'),\n",
        "    MaxPooling2D(2, 2),\n",
        "    Conv2D(16, (3, 3), activation='relu'),\n",
        "    MaxPooling2D(2, 2),\n",
        "    Conv2D(32, (3, 3), activation='relu'),\n",
        "    MaxPooling2D(2, 2),\n",
        "    Conv2D(64, (3, 3), activation='relu'),\n",
        "    MaxPooling2D(2, 2),\n",
        "    Flatten(),\n",
        "    Dense(128, activation='relu'),\n",
        "    Dense(256, activation='relu'),\n",
        "    Dense(4, activation='softmax')\n",
        "])'''\n",
        "\n",
        "model = Sequential([\n",
        "     Conv2D(8, (3, 3), activation='relu', input_shape=(320, 320, 3)),\n",
        "    MaxPooling2D(2, 2),\n",
        "    Conv2D(16, (3, 3), activation='relu'),\n",
        "    MaxPooling2D(2, 2),\n",
        "    Conv2D(16, (3, 3), activation='relu'),\n",
        "    MaxPooling2D(2, 2),\n",
        "    Conv2D(32, (3, 3), activation='relu'),\n",
        "    MaxPooling2D(2, 2),\n",
        "    Conv2D(64, (3, 3), activation='relu'),\n",
        "    MaxPooling2D(2, 2),\n",
        "    Flatten(),\n",
        "    Dense(128, activation='relu'),\n",
        "    Dense(128, activation='relu'),\n",
        "    Dense(4, activation='softmax')\n",
        "])\n",
        "model.summary()"
      ]
    },
    {
      "cell_type": "code",
      "execution_count": 22,
      "metadata": {
        "id": "zyDE5PVypeak"
      },
      "outputs": [],
      "source": [
        "# model.load_weights( base_dir + 'Dense-Conv2D-Pooling.h5')\n",
        "model.compile(optimizer='Adam', \n",
        "              loss='categorical_crossentropy', \n",
        "              metrics =['accuracy'])\n"
      ]
    },
    {
      "cell_type": "code",
      "execution_count": 23,
      "metadata": {
        "id": "-SiYeCiRpidT",
        "colab": {
          "base_uri": "https://localhost:8080/"
        },
        "outputId": "889d2d17-4351-4366-9d97-6c2e54836376"
      },
      "outputs": [
        {
          "output_type": "stream",
          "name": "stderr",
          "text": [
            "/usr/local/lib/python3.7/dist-packages/ipykernel_launcher.py:7: UserWarning: `Model.fit_generator` is deprecated and will be removed in a future version. Please use `Model.fit`, which supports generators.\n",
            "  import sys\n"
          ]
        },
        {
          "output_type": "stream",
          "name": "stdout",
          "text": [
            "Epoch 1/20\n",
            "48/48 [==============================] - ETA: 0s - loss: 1.0241 - accuracy: 0.4908\n",
            "Epoch 1: val_accuracy improved from -inf to 0.63235, saving model to /content/drive/My Drive/Kaggle/Dense-Conv2D-Pooling.h5\n",
            "48/48 [==============================] - 39s 542ms/step - loss: 1.0241 - accuracy: 0.4908 - val_loss: 0.7476 - val_accuracy: 0.6324\n",
            "Epoch 2/20\n",
            "48/48 [==============================] - ETA: 0s - loss: 0.7919 - accuracy: 0.6325\n",
            "Epoch 2: val_accuracy did not improve from 0.63235\n",
            "48/48 [==============================] - 26s 540ms/step - loss: 0.7919 - accuracy: 0.6325 - val_loss: 0.7289 - val_accuracy: 0.6250\n",
            "Epoch 3/20\n",
            "48/48 [==============================] - ETA: 0s - loss: 0.7163 - accuracy: 0.6522\n",
            "Epoch 3: val_accuracy improved from 0.63235 to 0.72794, saving model to /content/drive/My Drive/Kaggle/Dense-Conv2D-Pooling.h5\n",
            "48/48 [==============================] - 27s 557ms/step - loss: 0.7163 - accuracy: 0.6522 - val_loss: 0.5962 - val_accuracy: 0.7279\n",
            "Epoch 4/20\n",
            "48/48 [==============================] - ETA: 0s - loss: 0.5998 - accuracy: 0.7244\n",
            "Epoch 4: val_accuracy improved from 0.72794 to 0.77941, saving model to /content/drive/My Drive/Kaggle/Dense-Conv2D-Pooling.h5\n",
            "48/48 [==============================] - 26s 546ms/step - loss: 0.5998 - accuracy: 0.7244 - val_loss: 0.4948 - val_accuracy: 0.7794\n",
            "Epoch 5/20\n",
            "48/48 [==============================] - ETA: 0s - loss: 0.5663 - accuracy: 0.7677\n",
            "Epoch 5: val_accuracy improved from 0.77941 to 0.78676, saving model to /content/drive/My Drive/Kaggle/Dense-Conv2D-Pooling.h5\n",
            "48/48 [==============================] - 26s 546ms/step - loss: 0.5663 - accuracy: 0.7677 - val_loss: 0.5015 - val_accuracy: 0.7868\n",
            "Epoch 6/20\n",
            "48/48 [==============================] - ETA: 0s - loss: 0.4963 - accuracy: 0.7743\n",
            "Epoch 6: val_accuracy improved from 0.78676 to 0.82353, saving model to /content/drive/My Drive/Kaggle/Dense-Conv2D-Pooling.h5\n",
            "48/48 [==============================] - 27s 556ms/step - loss: 0.4963 - accuracy: 0.7743 - val_loss: 0.4862 - val_accuracy: 0.8235\n",
            "Epoch 7/20\n",
            "48/48 [==============================] - ETA: 0s - loss: 0.3557 - accuracy: 0.8556\n",
            "Epoch 7: val_accuracy improved from 0.82353 to 0.84559, saving model to /content/drive/My Drive/Kaggle/Dense-Conv2D-Pooling.h5\n",
            "48/48 [==============================] - 27s 557ms/step - loss: 0.3557 - accuracy: 0.8556 - val_loss: 0.4025 - val_accuracy: 0.8456\n",
            "Epoch 8/20\n",
            "48/48 [==============================] - ETA: 0s - loss: 0.2993 - accuracy: 0.8924\n",
            "Epoch 8: val_accuracy improved from 0.84559 to 0.87500, saving model to /content/drive/My Drive/Kaggle/Dense-Conv2D-Pooling.h5\n",
            "48/48 [==============================] - 27s 558ms/step - loss: 0.2993 - accuracy: 0.8924 - val_loss: 0.3385 - val_accuracy: 0.8750\n",
            "Epoch 9/20\n",
            "48/48 [==============================] - ETA: 0s - loss: 0.3301 - accuracy: 0.8753\n",
            "Epoch 9: val_accuracy improved from 0.87500 to 0.89706, saving model to /content/drive/My Drive/Kaggle/Dense-Conv2D-Pooling.h5\n",
            "48/48 [==============================] - 26s 545ms/step - loss: 0.3301 - accuracy: 0.8753 - val_loss: 0.2334 - val_accuracy: 0.8971\n",
            "Epoch 10/20\n",
            "48/48 [==============================] - ETA: 0s - loss: 0.3455 - accuracy: 0.8635\n",
            "Epoch 10: val_accuracy did not improve from 0.89706\n",
            "48/48 [==============================] - 26s 540ms/step - loss: 0.3455 - accuracy: 0.8635 - val_loss: 0.3618 - val_accuracy: 0.8824\n",
            "Epoch 11/20\n",
            "48/48 [==============================] - ETA: 0s - loss: 0.3207 - accuracy: 0.8885\n",
            "Epoch 11: val_accuracy did not improve from 0.89706\n",
            "48/48 [==============================] - 26s 537ms/step - loss: 0.3207 - accuracy: 0.8885 - val_loss: 0.4520 - val_accuracy: 0.8235\n",
            "Epoch 12/20\n",
            "48/48 [==============================] - ETA: 0s - loss: 0.3626 - accuracy: 0.8530\n",
            "Epoch 12: val_accuracy improved from 0.89706 to 0.94118, saving model to /content/drive/My Drive/Kaggle/Dense-Conv2D-Pooling.h5\n",
            "48/48 [==============================] - 27s 563ms/step - loss: 0.3626 - accuracy: 0.8530 - val_loss: 0.1778 - val_accuracy: 0.9412\n",
            "Epoch 13/20\n",
            "48/48 [==============================] - ETA: 0s - loss: 0.2666 - accuracy: 0.9042\n",
            "Epoch 13: val_accuracy did not improve from 0.94118\n",
            "48/48 [==============================] - 25s 528ms/step - loss: 0.2666 - accuracy: 0.9042 - val_loss: 0.2806 - val_accuracy: 0.8971\n",
            "Epoch 14/20\n",
            "48/48 [==============================] - ETA: 0s - loss: 0.2867 - accuracy: 0.9094\n",
            "Epoch 14: val_accuracy did not improve from 0.94118\n",
            "48/48 [==============================] - 25s 523ms/step - loss: 0.2867 - accuracy: 0.9094 - val_loss: 0.1821 - val_accuracy: 0.9118\n",
            "Epoch 15/20\n",
            "48/48 [==============================] - ETA: 0s - loss: 0.2596 - accuracy: 0.8937\n",
            "Epoch 15: val_accuracy did not improve from 0.94118\n",
            "48/48 [==============================] - 25s 521ms/step - loss: 0.2596 - accuracy: 0.8937 - val_loss: 0.2395 - val_accuracy: 0.9118\n",
            "Epoch 16/20\n",
            "48/48 [==============================] - ETA: 0s - loss: 0.2603 - accuracy: 0.9068\n",
            "Epoch 16: val_accuracy did not improve from 0.94118\n",
            "48/48 [==============================] - 25s 524ms/step - loss: 0.2603 - accuracy: 0.9068 - val_loss: 0.2396 - val_accuracy: 0.9118\n",
            "Epoch 17/20\n",
            "48/48 [==============================] - ETA: 0s - loss: 0.2502 - accuracy: 0.9094\n",
            "Epoch 17: val_accuracy did not improve from 0.94118\n",
            "48/48 [==============================] - 25s 526ms/step - loss: 0.2502 - accuracy: 0.9094 - val_loss: 0.2281 - val_accuracy: 0.9265\n",
            "Epoch 18/20\n",
            "48/48 [==============================] - ETA: 0s - loss: 0.2100 - accuracy: 0.9213\n",
            "Epoch 18: val_accuracy did not improve from 0.94118\n",
            "48/48 [==============================] - 26s 540ms/step - loss: 0.2100 - accuracy: 0.9213 - val_loss: 0.2603 - val_accuracy: 0.9118\n",
            "Epoch 19/20\n",
            "48/48 [==============================] - ETA: 0s - loss: 0.2175 - accuracy: 0.9081\n",
            "Epoch 19: val_accuracy did not improve from 0.94118\n",
            "48/48 [==============================] - 26s 542ms/step - loss: 0.2175 - accuracy: 0.9081 - val_loss: 0.2319 - val_accuracy: 0.8971\n",
            "Epoch 20/20\n",
            "48/48 [==============================] - ETA: 0s - loss: 0.2358 - accuracy: 0.9134\n",
            "Epoch 20: val_accuracy did not improve from 0.94118\n",
            "48/48 [==============================] - 26s 534ms/step - loss: 0.2358 - accuracy: 0.9134 - val_loss: 0.2415 - val_accuracy: 0.9412\n"
          ]
        }
      ],
      "source": [
        "\n",
        "\n",
        "history = model.fit_generator(train_generator,\n",
        "                              epochs=20,\n",
        "                              verbose=1,\n",
        "                              validation_data=validation_generator,\n",
        "                              callbacks = [best_model]\n",
        "                              )"
      ]
    },
    {
      "cell_type": "code",
      "execution_count": 24,
      "metadata": {
        "id": "JGASFNdG0vKR",
        "colab": {
          "base_uri": "https://localhost:8080/",
          "height": 458
        },
        "outputId": "54779838-1177-4fc0-8aec-25b33bcb3987"
      },
      "outputs": [
        {
          "output_type": "display_data",
          "data": {
            "text/plain": [
              "<Figure size 1008x504 with 1 Axes>"
            ],
            "image/png": "[encoded data removed]"
          },
          "metadata": {
            "needs_background": "light"
          }
        }
      ],
      "source": [
        "acc=history.history['accuracy']\n",
        "val_acc=history.history['val_accuracy']\n",
        "loss=history.history['loss']\n",
        "val_loss=history.history['val_loss']\n",
        "\n",
        "epochs=range(len(acc))\n",
        "\n",
        "fig = plt.figure(figsize=(14,7))\n",
        "plt.plot(epochs, acc, 'r', label=\"Training Accuracy\")\n",
        "plt.plot(epochs, val_acc, 'b', label=\"Validation Accuracy\")\n",
        "plt.xlabel('Epoch')\n",
        "plt.ylabel('Accuracy')\n",
        "plt.title('Training and validation accuracy')\n",
        "plt.legend(loc='lower right')\n",
        "plt.show()"
      ]
    },
    {
      "cell_type": "code",
      "execution_count": 25,
      "metadata": {
        "id": "WCENHWiu01jH",
        "colab": {
          "base_uri": "https://localhost:8080/",
          "height": 475
        },
        "outputId": "15e9377d-f76e-4af2-99c8-400b6884517b"
      },
      "outputs": [
        {
          "output_type": "execute_result",
          "data": {
            "text/plain": [
              "Text(0.5, 1.0, 'Training and validation loss')"
            ]
          },
          "metadata": {},
          "execution_count": 25
        },
        {
          "output_type": "display_data",
          "data": {
            "text/plain": [
              "<Figure size 1008x504 with 1 Axes>"
            ],
            "image/png": "[encoded data removed]"
          },
          "metadata": {
            "needs_background": "light"
          }
        }
      ],
      "source": [
        "fig2 = plt.figure(figsize=(14,7))\n",
        "plt.plot(epochs, loss, 'r', label=\"Training Loss\")\n",
        "plt.plot(epochs, val_loss, 'b', label=\"Validation Loss\")\n",
        "plt.legend(loc='upper right')\n",
        "plt.xlabel('Epoch')\n",
        "plt.ylabel('Loss')\n",
        "plt.title('Training and validation loss')"
      ]
    },
    {
      "cell_type": "code",
      "execution_count": 26,
      "metadata": {
        "id": "UheK9ka88fKj",
        "colab": {
          "base_uri": "https://localhost:8080/",
          "height": 838
        },
        "outputId": "bb6a5ac6-c585-47e9-b74b-301156b0e5cb"
      },
      "outputs": [
        {
          "output_type": "stream",
          "name": "stderr",
          "text": [
            "/usr/local/lib/python3.7/dist-packages/ipykernel_launcher.py:6: UserWarning: `Model.evaluate_generator` is deprecated and will be removed in a future version. Please use `Model.evaluate`, which supports generators.\n",
            "  \n"
          ]
        },
        {
          "output_type": "stream",
          "name": "stdout",
          "text": [
            "Accuracy: 0.9411764740943909 Loss: 0.24148117005825043\n"
          ]
        },
        {
          "output_type": "stream",
          "name": "stderr",
          "text": [
            "/usr/local/lib/python3.7/dist-packages/ipykernel_launcher.py:8: UserWarning: `Model.predict_generator` is deprecated and will be removed in a future version. Please use `Model.predict`, which supports generators.\n",
            "  \n"
          ]
        },
        {
          "output_type": "stream",
          "name": "stdout",
          "text": [
            "[0 0 0 0 0 0 0 0 0 0 0 0 0 0 0 0 0 0 0 0 0 0 0 0 0 0 0 0 0 0 0 0 0 0 0 0 1\n",
            " 1 1 1 1 1 1 1 1 1 1 1 1 1 1 1 1 1 1 1 1 1 1 1 1 1 2 2 2 2 2 2 2 2 2 2 2 2\n",
            " 2 2 2 2 2 2 2 2 2 2 2 2 2 2 2 2 2 2 2 3 3 3 3 3 3 3 3 3 3 3 3 3 3 3 3 3 3\n",
            " 3 3 3 3 3 3 3 3 3 3 3 3 3 3 3 3 3 3 3 3 3 3 3 3 3]\n",
            "[0 2 0 0 0 0 0 0 0 1 0 1 0 0 0 0 0 0 0 0 1 0 0 0 0 0 0 0 0 1 0 0 0 0 0 0 1\n",
            " 1 1 1 1 1 1 1 1 1 1 1 1 1 1 1 1 1 1 1 1 1 1 1 1 1 2 2 2 2 2 1 2 2 2 2 2 2\n",
            " 2 2 2 2 2 2 2 2 2 2 2 2 2 1 2 0 2 2 2 3 3 3 3 3 3 3 3 3 3 3 3 3 3 3 3 3 3\n",
            " 3 3 3 3 3 3 3 3 3 3 3 3 3 3 3 3 3 3 3 3 3 3 3 3 3]\n",
            "\n",
            "\n",
            "Validate Predict Report===============\n",
            "\n",
            "              precision    recall  f1-score   support\n",
            "\n",
            "           0       0.86      0.97      0.91        32\n",
            "           1       1.00      0.81      0.90        32\n",
            "           2       0.90      0.97      0.93        29\n",
            "           3       1.00      1.00      1.00        43\n",
            "\n",
            "    accuracy                           0.94       136\n",
            "   macro avg       0.94      0.94      0.94       136\n",
            "weighted avg       0.95      0.94      0.94       136\n",
            "\n",
            "\n",
            "\n",
            "Validate Cunfusion Matrix===============\n",
            "\n"
          ]
        },
        {
          "output_type": "execute_result",
          "data": {
            "text/plain": [
              "<matplotlib.axes._subplots.AxesSubplot at 0x7f2fa0547650>"
            ]
          },
          "metadata": {},
          "execution_count": 26
        },
        {
          "output_type": "display_data",
          "data": {
            "text/plain": [
              "<Figure size 432x288 with 1 Axes>"
            ],
            "image/png": "[encoded data removed]"
          },
          "metadata": {
            "needs_background": "light"
          }
        }
      ],
      "source": [
        "from sklearn.metrics import classification_report\n",
        "from sklearn.metrics import confusion_matrix\n",
        "\n",
        "\n",
        "\n",
        "loss, acc = model.evaluate_generator(validation_generator)\n",
        "print(\"Accuracy:\",acc,\"Loss:\",loss)\n",
        "probabilities = model.predict_generator(generator=validation_generator)\n",
        "y_t = validation_generator.classes\n",
        "print(y_t)\n",
        "y_p=np.argmax(probabilities, axis=1)\n",
        "\n",
        "print(y_p)\n",
        "print('\\n\\nValidate Predict Report===============\\n')\n",
        "print(classification_report(y_p,y_t))\n",
        "print('\\n\\nValidate Cunfusion Matrix===============\\n')\n",
        "matrix_confusion=(confusion_matrix(y_p,y_t))\n",
        "sns.heatmap(matrix_confusion, square=True, annot=True, cmap='Blues', fmt='d', cbar=False)"
      ]
    },
    {
      "cell_type": "markdown",
      "metadata": {
        "id": "6QnttKFHaBdi"
      },
      "source": [
        ""
      ]
    },
    {
      "cell_type": "code",
      "execution_count": 27,
      "metadata": {
        "id": "lSs_Lcda-m3e",
        "colab": {
          "base_uri": "https://localhost:8080/",
          "height": 736
        },
        "outputId": "b488cab2-6d03-4953-f9f2-e6cae6c87955"
      },
      "outputs": [
        {
          "output_type": "stream",
          "name": "stdout",
          "text": [
            "Found 226 images belonging to 4 classes.\n"
          ]
        },
        {
          "output_type": "stream",
          "name": "stderr",
          "text": [
            "/usr/local/lib/python3.7/dist-packages/ipykernel_launcher.py:10: UserWarning: `Model.evaluate_generator` is deprecated and will be removed in a future version. Please use `Model.evaluate`, which supports generators.\n",
            "  # Remove the CWD from sys.path while we load stuff.\n"
          ]
        },
        {
          "output_type": "stream",
          "name": "stdout",
          "text": [
            "Accuracy: 0.9159291982650757 Loss: 0.3064720332622528\n"
          ]
        },
        {
          "output_type": "stream",
          "name": "stderr",
          "text": [
            "/usr/local/lib/python3.7/dist-packages/ipykernel_launcher.py:12: UserWarning: `Model.predict_generator` is deprecated and will be removed in a future version. Please use `Model.predict`, which supports generators.\n",
            "  if sys.path[0] == '':\n"
          ]
        },
        {
          "output_type": "stream",
          "name": "stdout",
          "text": [
            "\n",
            "\n",
            "Test Predict Report===============\n",
            "\n",
            "              precision    recall  f1-score   support\n",
            "\n",
            "           0       0.80      0.96      0.87        50\n",
            "           1       0.95      0.84      0.89        49\n",
            "           2       0.92      0.89      0.90        53\n",
            "           3       0.99      0.96      0.97        74\n",
            "\n",
            "    accuracy                           0.92       226\n",
            "   macro avg       0.92      0.91      0.91       226\n",
            "weighted avg       0.92      0.92      0.92       226\n",
            "\n",
            "\n",
            "\n",
            "Test Cunfusion Matrix===============\n",
            "\n"
          ]
        },
        {
          "output_type": "execute_result",
          "data": {
            "text/plain": [
              "<matplotlib.axes._subplots.AxesSubplot at 0x7f2f1677fb10>"
            ]
          },
          "metadata": {},
          "execution_count": 27
        },
        {
          "output_type": "display_data",
          "data": {
            "text/plain": [
              "<Figure size 432x288 with 1 Axes>"
            ],
            "image/png": "[encoded data removed]"
          },
          "metadata": {
            "needs_background": "light"
          }
        }
      ],
      "source": [
        "test_datagen = ImageDataGenerator(rescale = 1/255.0)\n",
        "\n",
        "test_generator = test_datagen.flow_from_directory(test_dir,\n",
        "                                                              batch_size=batch_size,\n",
        "                                                              class_mode='categorical',\n",
        "                                                               shuffle=False,\n",
        "                                                              target_size=(320, 320)\n",
        "                                                             )\n",
        "\n",
        "loss, acc = model.evaluate_generator(test_generator)\n",
        "print(\"Accuracy:\",acc,\"Loss:\",loss)\n",
        "probabilities = model.predict_generator(generator=test_generator)\n",
        "y_t = test_generator.classes\n",
        "#print(y_t)\n",
        "y_p=np.argmax(probabilities, axis=1)\n",
        "\n",
        "#print(y_p)\n",
        "print('\\n\\nTest Predict Report===============\\n')\n",
        "print(classification_report(y_p,y_t))\n",
        "print('\\n\\nTest Cunfusion Matrix===============\\n')\n",
        "matrix_confusion=(confusion_matrix(y_p,y_t))\n",
        "sns.heatmap(matrix_confusion, square=True, annot=True, cmap='Blues', fmt='d', cbar=False)"
      ]
    }
  ],
  "metadata": {
    "accelerator": "GPU",
    "colab": {
      "collapsed_sections": [],
      "name": "Dense-Conv2D-Pooling.ipynb",
      "provenance": [],
      "include_colab_link": true
    },
    "kernelspec": {
      "display_name": "Python 3",
      "name": "python3"
    },
    "language_info": {
      "name": "python"
    }
  },
  "nbformat": 4,
  "nbformat_minor": 0
}